{
  "nbformat": 4,
  "nbformat_minor": 0,
  "metadata": {
    "colab": {
      "provenance": []
    },
    "kernelspec": {
      "name": "python3",
      "display_name": "Python 3"
    },
    "language_info": {
      "name": "python"
    }
  },
  "cells": [
    {
      "cell_type": "markdown",
      "source": [
        "This notebook solves the problem of ice-cream revenue using linear regression. The problem states that if the temprature(in degree celsius) outside is given then what will be the revenue(in dollars) for that day.\n",
        "\n",
        "Dataset source: Kaggle"
      ],
      "metadata": {
        "id": "2g2u5rSqtw8R"
      }
    },
    {
      "cell_type": "markdown",
      "source": [
        "# Import Library\n",
        "\n",
        " The 'Pandas' package is a fast, flexible tool used to analyze data. It helps in reading and updating the files like csv files, excel, etc."
      ],
      "metadata": {
        "id": "6DkNuYSquWnG"
      }
    },
    {
      "cell_type": "code",
      "execution_count": 1,
      "metadata": {
        "id": "ngrOXShgBBm_"
      },
      "outputs": [],
      "source": [
        "import pandas as pd"
      ]
    },
    {
      "cell_type": "markdown",
      "source": [
        "# Import data\n",
        "\n",
        "Dataset is imported from github in raw form."
      ],
      "metadata": {
        "id": "rWBcKnVJuX9g"
      }
    },
    {
      "cell_type": "code",
      "source": [
        "data = pd.read_csv('https://github.com/Muskan2320/Regression/raw/main/Ice-cream%20Revenue%20Prediction/IceCreamData.csv')\n",
        "data.head()"
      ],
      "metadata": {
        "id": "hHUJZAw0BPeD",
        "colab": {
          "base_uri": "https://localhost:8080/",
          "height": 745
        },
        "outputId": "77ca2e10-e2f4-45ca-b4da-2509fde016de"
      },
      "execution_count": 25,
      "outputs": [
        {
          "output_type": "execute_result",
          "data": {
            "text/plain": [
              "   Temperature     Revenue\n",
              "0    24.566884  534.799028\n",
              "1    26.005191  625.190122\n",
              "2    27.790554  660.632289\n",
              "3    20.595335  487.706960\n",
              "4    11.503498  316.240194"
            ],
            "text/html": [
              "\n",
              "\n",
              "  <div id=\"df-9a5044c3-f996-4291-9e9a-6dd873bccabf\">\n",
              "    <div class=\"colab-df-container\">\n",
              "      <div>\n",
              "<style scoped>\n",
              "    .dataframe tbody tr th:only-of-type {\n",
              "        vertical-align: middle;\n",
              "    }\n",
              "\n",
              "    .dataframe tbody tr th {\n",
              "        vertical-align: top;\n",
              "    }\n",
              "\n",
              "    .dataframe thead th {\n",
              "        text-align: right;\n",
              "    }\n",
              "</style>\n",
              "<table border=\"1\" class=\"dataframe\">\n",
              "  <thead>\n",
              "    <tr style=\"text-align: right;\">\n",
              "      <th></th>\n",
              "      <th>Temperature</th>\n",
              "      <th>Revenue</th>\n",
              "    </tr>\n",
              "  </thead>\n",
              "  <tbody>\n",
              "    <tr>\n",
              "      <th>0</th>\n",
              "      <td>24.566884</td>\n",
              "      <td>534.799028</td>\n",
              "    </tr>\n",
              "    <tr>\n",
              "      <th>1</th>\n",
              "      <td>26.005191</td>\n",
              "      <td>625.190122</td>\n",
              "    </tr>\n",
              "    <tr>\n",
              "      <th>2</th>\n",
              "      <td>27.790554</td>\n",
              "      <td>660.632289</td>\n",
              "    </tr>\n",
              "    <tr>\n",
              "      <th>3</th>\n",
              "      <td>20.595335</td>\n",
              "      <td>487.706960</td>\n",
              "    </tr>\n",
              "    <tr>\n",
              "      <th>4</th>\n",
              "      <td>11.503498</td>\n",
              "      <td>316.240194</td>\n",
              "    </tr>\n",
              "  </tbody>\n",
              "</table>\n",
              "</div>\n",
              "      <button class=\"colab-df-convert\" onclick=\"convertToInteractive('df-9a5044c3-f996-4291-9e9a-6dd873bccabf')\"\n",
              "              title=\"Convert this dataframe to an interactive table.\"\n",
              "              style=\"display:none;\">\n",
              "\n",
              "  <svg xmlns=\"http://www.w3.org/2000/svg\" height=\"24px\"viewBox=\"0 0 24 24\"\n",
              "       width=\"24px\">\n",
              "    <path d=\"M0 0h24v24H0V0z\" fill=\"none\"/>\n",
              "    <path d=\"M18.56 5.44l.94 2.06.94-2.06 2.06-.94-2.06-.94-.94-2.06-.94 2.06-2.06.94zm-11 1L8.5 8.5l.94-2.06 2.06-.94-2.06-.94L8.5 2.5l-.94 2.06-2.06.94zm10 10l.94 2.06.94-2.06 2.06-.94-2.06-.94-.94-2.06-.94 2.06-2.06.94z\"/><path d=\"M17.41 7.96l-1.37-1.37c-.4-.4-.92-.59-1.43-.59-.52 0-1.04.2-1.43.59L10.3 9.45l-7.72 7.72c-.78.78-.78 2.05 0 2.83L4 21.41c.39.39.9.59 1.41.59.51 0 1.02-.2 1.41-.59l7.78-7.78 2.81-2.81c.8-.78.8-2.07 0-2.86zM5.41 20L4 18.59l7.72-7.72 1.47 1.35L5.41 20z\"/>\n",
              "  </svg>\n",
              "      </button>\n",
              "\n",
              "\n",
              "\n",
              "    <div id=\"df-0275370e-e4ab-429f-9e55-7c9e76d29d9f\">\n",
              "      <button class=\"colab-df-quickchart\" onclick=\"quickchart('df-0275370e-e4ab-429f-9e55-7c9e76d29d9f')\"\n",
              "              title=\"Suggest charts.\"\n",
              "              style=\"display:none;\">\n",
              "\n",
              "<svg xmlns=\"http://www.w3.org/2000/svg\" height=\"24px\"viewBox=\"0 0 24 24\"\n",
              "     width=\"24px\">\n",
              "    <g>\n",
              "        <path d=\"M19 3H5c-1.1 0-2 .9-2 2v14c0 1.1.9 2 2 2h14c1.1 0 2-.9 2-2V5c0-1.1-.9-2-2-2zM9 17H7v-7h2v7zm4 0h-2V7h2v10zm4 0h-2v-4h2v4z\"/>\n",
              "    </g>\n",
              "</svg>\n",
              "      </button>\n",
              "    </div>\n",
              "\n",
              "<style>\n",
              "  .colab-df-quickchart {\n",
              "    background-color: #E8F0FE;\n",
              "    border: none;\n",
              "    border-radius: 50%;\n",
              "    cursor: pointer;\n",
              "    display: none;\n",
              "    fill: #1967D2;\n",
              "    height: 32px;\n",
              "    padding: 0 0 0 0;\n",
              "    width: 32px;\n",
              "  }\n",
              "\n",
              "  .colab-df-quickchart:hover {\n",
              "    background-color: #E2EBFA;\n",
              "    box-shadow: 0px 1px 2px rgba(60, 64, 67, 0.3), 0px 1px 3px 1px rgba(60, 64, 67, 0.15);\n",
              "    fill: #174EA6;\n",
              "  }\n",
              "\n",
              "  [theme=dark] .colab-df-quickchart {\n",
              "    background-color: #3B4455;\n",
              "    fill: #D2E3FC;\n",
              "  }\n",
              "\n",
              "  [theme=dark] .colab-df-quickchart:hover {\n",
              "    background-color: #434B5C;\n",
              "    box-shadow: 0px 1px 3px 1px rgba(0, 0, 0, 0.15);\n",
              "    filter: drop-shadow(0px 1px 2px rgba(0, 0, 0, 0.3));\n",
              "    fill: #FFFFFF;\n",
              "  }\n",
              "</style>\n",
              "\n",
              "    <script>\n",
              "      async function quickchart(key) {\n",
              "        const containerElement = document.querySelector('#' + key);\n",
              "        const charts = await google.colab.kernel.invokeFunction(\n",
              "            'suggestCharts', [key], {});\n",
              "      }\n",
              "    </script>\n",
              "\n",
              "      <script>\n",
              "\n",
              "function displayQuickchartButton(domScope) {\n",
              "  let quickchartButtonEl =\n",
              "    domScope.querySelector('#df-0275370e-e4ab-429f-9e55-7c9e76d29d9f button.colab-df-quickchart');\n",
              "  quickchartButtonEl.style.display =\n",
              "    google.colab.kernel.accessAllowed ? 'block' : 'none';\n",
              "}\n",
              "\n",
              "        displayQuickchartButton(document);\n",
              "      </script>\n",
              "      <style>\n",
              "    .colab-df-container {\n",
              "      display:flex;\n",
              "      flex-wrap:wrap;\n",
              "      gap: 12px;\n",
              "    }\n",
              "\n",
              "    .colab-df-convert {\n",
              "      background-color: #E8F0FE;\n",
              "      border: none;\n",
              "      border-radius: 50%;\n",
              "      cursor: pointer;\n",
              "      display: none;\n",
              "      fill: #1967D2;\n",
              "      height: 32px;\n",
              "      padding: 0 0 0 0;\n",
              "      width: 32px;\n",
              "    }\n",
              "\n",
              "    .colab-df-convert:hover {\n",
              "      background-color: #E2EBFA;\n",
              "      box-shadow: 0px 1px 2px rgba(60, 64, 67, 0.3), 0px 1px 3px 1px rgba(60, 64, 67, 0.15);\n",
              "      fill: #174EA6;\n",
              "    }\n",
              "\n",
              "    [theme=dark] .colab-df-convert {\n",
              "      background-color: #3B4455;\n",
              "      fill: #D2E3FC;\n",
              "    }\n",
              "\n",
              "    [theme=dark] .colab-df-convert:hover {\n",
              "      background-color: #434B5C;\n",
              "      box-shadow: 0px 1px 3px 1px rgba(0, 0, 0, 0.15);\n",
              "      filter: drop-shadow(0px 1px 2px rgba(0, 0, 0, 0.3));\n",
              "      fill: #FFFFFF;\n",
              "    }\n",
              "  </style>\n",
              "\n",
              "      <script>\n",
              "        const buttonEl =\n",
              "          document.querySelector('#df-9a5044c3-f996-4291-9e9a-6dd873bccabf button.colab-df-convert');\n",
              "        buttonEl.style.display =\n",
              "          google.colab.kernel.accessAllowed ? 'block' : 'none';\n",
              "\n",
              "        async function convertToInteractive(key) {\n",
              "          const element = document.querySelector('#df-9a5044c3-f996-4291-9e9a-6dd873bccabf');\n",
              "          const dataTable =\n",
              "            await google.colab.kernel.invokeFunction('convertToInteractive',\n",
              "                                                     [key], {});\n",
              "          if (!dataTable) return;\n",
              "\n",
              "          const docLinkHtml = 'Like what you see? Visit the ' +\n",
              "            '<a target=\"_blank\" href=https://colab.research.google.com/notebooks/data_table.ipynb>data table notebook</a>'\n",
              "            + ' to learn more about interactive tables.';\n",
              "          element.innerHTML = '';\n",
              "          dataTable['output_type'] = 'display_data';\n",
              "          await google.colab.output.renderOutput(dataTable, element);\n",
              "          const docLink = document.createElement('div');\n",
              "          docLink.innerHTML = docLinkHtml;\n",
              "          element.appendChild(docLink);\n",
              "        }\n",
              "      </script>\n",
              "    </div>\n",
              "  </div>\n"
            ]
          },
          "metadata": {},
          "execution_count": 25
        },
        {
          "output_type": "display_data",
          "data": {
            "text/plain": [
              "<google.colab._quickchart_helpers.SectionTitle at 0x7b4ca6ba4460>"
            ],
            "text/html": [
              "<h4 class=\"colab-quickchart-section-title\">Values</h4>\n",
              "<style>\n",
              "  .colab-quickchart-section-title {\n",
              "      clear: both;\n",
              "  }\n",
              "</style>"
            ]
          },
          "metadata": {}
        },
        {
          "output_type": "display_data",
          "data": {
            "text/plain": [
              "import numpy as np\n",
              "from google.colab import autoviz\n",
              "df_4700122451797820028 = autoviz.get_df('df_4700122451797820028')\n",
              "\n",
              "def value_plot(df, y, sort_ascending=False, figsize=(2, 1)):\n",
              "  from matplotlib import pyplot as plt\n",
              "  if sort_ascending:\n",
              "    df = df.sort_values(y).reset_index(drop=True)\n",
              "  _, ax = plt.subplots(figsize=figsize)\n",
              "  df[y].plot(kind='line')\n",
              "  plt.title(y)\n",
              "  ax.spines[['top', 'right',]].set_visible(False)\n",
              "  plt.tight_layout()\n",
              "  return autoviz.MplChart.from_current_mpl_state()\n",
              "\n",
              "chart = value_plot(df_4700122451797820028, *['Temperature'], **{})\n",
              "chart"
            ],
            "text/html": [
              "      <div class=\"colab-quickchart-chart-with-code\" id=\"chart-d1cc42ca-7e2e-4d6c-92c4-3348cf774b10\">\n",
              "        <img src=\"data:image/png;base64,iVBORw0KGgoAAAANSUhEUgAAAMQAAABgCAYAAABCK92TAAAAOXRFWHRTb2Z0d2FyZQBNYXRwbG90\n",
              "bGliIHZlcnNpb24zLjcuMSwgaHR0cHM6Ly9tYXRwbG90bGliLm9yZy/bCgiHAAAACXBIWXMAAA9h\n",
              "AAAPYQGoP6dpAAASQUlEQVR4nO3de1QT174H8O+QhCAQIoRHUB6BKqiFgkWBKsek5XC0es+Soq09\n",
              "VoUqC+H2XrVaH1Vb9PRcXcuLKLe2ZR2P4rFWsZZq7bV6ffJSW/BBrVoRCxGQhxAhQDDvff9A0uQg\n",
              "yiOQoPuzVhaZnczkN8P+zcyexx6GEEJAURQAwMbSAVCUNaEJQVFGaEJQlBGaEBRlhCYERRmhCUFR\n",
              "RmhCUJQRmhAUZYQmBEUZoQlBUUZoQhhxdHQ0vGxtbcFisUzKCgoKLB2i2UgkEqxfv97SYVgdtqUD\n",
              "sCZtbW2G9+vXr0dhYSFyc3MtF1AfqNVq2NraDtrvaTQacDicQfu9gUa3ED2kVCqxdu1avPDCC3B2\n",
              "dsaUKVNw9epVw+cbNmxAVFQUPv74Y3h6esLJyQmrVq1CU1MT5syZAz6fD5FIhO+++84wzp49e+Dl\n",
              "5YWMjAx4eXlBIBBg4cKFJonZ3NyMlJQU+Pr6QiAQYPr06SgvLzd8npCQgLfeegspKSlwc3PDzJkz\n",
              "AQBJSUkQiURwdHSEn58fUlNTodfrAQDJyckoKCjAli1bDFs/43kwlpCQgHnz5hmGRSIRUlNTMW3a\n",
              "NPB4PGzduhUAsHfvXoSEhIDP5+PFF19Edna2uRb94CLUY61bt46IxWLDcHx8PImOjiZVVVVEo9GQ\n",
              "Tz/9lLi5uZGmpiZCCCGpqamEzWaT7du3E7VaTYqKigibzSZhYWEkPz+f6HQ6snXrVuLs7EwUCgUh\n",
              "hJCsrCzCYrFIQkICaWtrI9XV1WTChAkkMTGREEKIXq8nEomEzJ07l8hkMqJUKsmqVavI2LFjiVqt\n",
              "NsTFZrPJrl27iFqtNkx7586dpK6ujuj1enLx4kXi4uJCMjMzDfMjFovJunXrTOY5NTWVTJ482aQs\n",
              "Pj6evPPOO4ZhX19f4uHhQS5cuED0ej1RKBQkKyuLeHt7k+LiYqLT6UhBQQHh8XikoKDAPP+MQUQT\n",
              "ohvGCdHY2EgAkFu3bpl8Z9SoUeTLL78khHRUJn9/f5PPQ0NDSVJSkmG4czolJSWEkI6EsLGxIc3N\n",
              "zYbv/PDDD4TD4RCtVksuX75MOBwOaW1tNXyu1WqJnZ2dobLFx8eTyMjIp87PkiVLSFxcnGG4Pwmx\n",
              "Zs0ak+8EBwebJBshhCQmJpJFixY9NS5rQ9sQPXDnzh0AQEREhEm5Wq1GdXW1YdjT09PkcwcHB5My\n",
              "BwcHAEBra6uhzNnZGXw+3zDs5+cHjUaD+vp6lJWVQavVwsvLq0tMVVVVJuMYI4Rg06ZN2L9/P2pq\n",
              "akAIgVKpxMSJE3s8z0/yr79XVlaGFStWYPXq1YYyrVaLKVOmmOX3BhNNiB4QCoUAgGvXrsHHx8es\n",
              "025qaoJcLjckhVQqBYfDgYeHB4RCIWxtbdHQ0PDEhquNjWlTMDs7G9u3b8eJEycQGhoKFouFpUuX\n",
              "4vLly92OAwA8Hg8KhcKkrKamBu7u7k/8PaFQiI0bN2LBggU9m2krRhvVPeDr64vY2Fi89957uHv3\n",
              "LoCOtfzx48dRW1vbr2kzDIMVK1ZAoVCgpqYGqampmD9/PlgsFqKiohAUFISUlBTcv38fQEcC5eTk\n",
              "oL29vdtpyuVysNlsuLu7g2EYnDt3Dvv27TP5jlAoxO3bt03KJkyYgF9++QWFhYXQ6XQ4dOgQ8vPz\n",
              "nzoPy5YtwyeffILi4mLo9XqoVCoUFxebJOBQQROih/bv34+wsDDExMSAx+MhMDAQO3fuBOnnHbhC\n",
              "oRDBwcEICAhAUFAQxo4di+3btwMAWCwWTp06BXt7e0RERIDH4yEkJASHDx8GwzDdTjMhIQHR0dEI\n",
              "Dg6Gq6srMjMzTY4UAcCKFStQWloKZ2dnDB8+HAAgFouxdu1axMXFwc3NDbm5uZg1a9ZT52Hp0qXY\n",
              "sGEDkpOT4eLigpEjR2LlypVdtjZDAUP6+x+l+mzPnj1Yv369STuEsiy6haAoIzQhKMoI3WWiKCN0\n",
              "C0FRRmhCUJQRmhAUZYQmBEUZsZqEyMjIsHQIFGU91zJ1XhLxvCOEQP5Qg1q5EnVy5aO/Dzv+tnQM\n",
              "18uV8HKxR8IkX8wMHQk7DsvSYT8zrCYhngd6PcGDdnXXit453KJErfwhlBr9U6f1a20LVuf8gi0n\n",
              "SvFOhA/mveILd57dIMzFs40mhJno9AQNrSrUyh+aVPC6zgrf8hD1chXUuqdXdgBwcbCF0MkOnnw7\n",
              "CPmdf4fBk28HV0cu8m7fxz8v3MW95of4n7N3kJlXjj+HjMCiKD+MG+E0wHP77OpVQiiVSrz99tu4\n",
              "efMmhg0bBnd3d3zxxRcYNWoUJBIJ7t69a7iMOT4+Hu+///6ABD2YCCFoV+vQ2KZ6VOGN1+i/r+Hv\n",
              "t6qg0z/9HCfDAG6OXKOKPuz3Cu/UMezuxH3qblCgkIeFk/3wfzfqsauwHFcqm5FzpRo5V6rxir8A\n",
              "C6P8ED3GHTY23V8ESHXV6y1EUlISXn/9dTAMgx07diAxMdFwI/62bdsQGxtr5hDNT68naH6oQWOb\n",
              "Co2tKjQq1GhsVUGmUKGxVQ2ZQoWGNjVkbSo0tql6tAsDACwbBh48bteKbrSGd+dxwWGZ51gGm2WD\n",
              "GS95YsZLnrha2YRdhRU4fr0OF8tluFgug0hgj3cn+2F2mBccuHRnoCd6tZTs7Owwffp0w3BkZCTS\n",
              "0tLMHlRfqLQ6PFCo0diq7qjobSo0GlVqmUKNhtaOvw8U6h6tzY3ZcWzgxuPC0+nxFb1zV4ZloTXy\n",
              "eB9n7JjrjHvND7H3ohQHfqqEVNaO1KM3sPVkKf4S7oMFk0QYOXyYReIbKvp1LdP8+fPh4uKCjIwM\n",
              "SCQS1NXVgcPhYNy4cdi8eTP8/f0fO55KpYJKpTIp++ijj7ocelVqdKiTKw2Vu7Oiyx69lxmVtSi1\n",
              "vY5/uD0HAgdbuDpyH7063gsevRc4cuHmyIXA0XbIrWEVKi1yrlQj67wUFY0d9yWwbBhMCxJiUZQf\n",
              "XvZxtnCE1qnPCbFp0yZ8//33OHPmDOzt7VFVVQVvb28QQvDZZ5/h888/x82bNx877oYNG7Bx40aT\n",
              "ssjISFy8eNGk7MT1WiTvu9LjmFg2zO8VnMeFq4MtXHlcQ5ngUYV343HhbG8LW7bVnIYZMHo9wdlb\n",
              "97H7fAUu/CYzlI/3GY5FUX6Y9qIQbDPtwj0L+pQQaWlpyM7OxunTpw13W/0rOzs73Lt3DwKBoMtn\n",
              "Pd1CXJI+wILdRYaKLHDgwo3X+b6zsneUCRy44A/j0EbkE9ysacHu8xU4WlJjONo1gm+H+EkivB3u\n",
              "A/6wZ6fDsb7qdUKkp6fjq6++wunTp+Hs3LHZ1Wq1kMlk8PDwAADk5ORg+fLlvTrZtnz5cqSnp5uU\n",
              "EUKeeKsk1Tf3W5XY92MlvvrxLmQKNQDA3paFN8O88O5kP4hcHSwcoeX0KiGqq6vh7e0Nf39/8Hg8\n",
              "AACXy8XZs2chFouhUqlgY2MDV1dXpKenIyQkpMeBPC4hqIGl1OhwtKQGuworUFrf0TUOwwDRY9yx\n",
              "MMoPr/gLnrsVktXcIEQTwnIIITh/R4ZdheU4V9pgKB/n6YSFUX74c4gnuOzn4/IQmhCUid8a2pB1\n",
              "vgLfXK42nH9xdeRifqQv5kX6QODItXCEA4smBPVYze1q7C+qxN4Ld1HXogQA2LJt8EboSCyM8kOg\n",
              "kGfhCAdGr463KZVKxMbGIiAgACEhIYiJiTF083j//n1MmzYNo0ePRlBQUI86uKKs13B7W/y7ZBQK\n",
              "Vr+KjLdDEeLFh1qrx8FLVZi6PR/zd/2Ec7fuQ9/LE5zWrtcHoJOSklBaWoqff/4ZM2fORGJiIgBg\n",
              "zZo1iIyMRFlZGbKysjB37lxoNBqzB0wNLg7LBjNDR+LIe5PxTfIreD1ICBsGKChrxLt7ihGzLQ9H\n",
              "f67pd4dt1qJXCdF56UbnkYfIyEhIpVIAwNdff43k5GQAwMSJEzFixAjk5eWZN1rKYhiGwQSRC76Y\n",
              "F4a8la8iMcoPPC4bvzUosOTAVbzx+QVckj6wdJj91q9TlBkZGZg5cyZkMhk0Go2hU2Cg48EalZWV\n",
              "jx1PpVKhpaXF5KXT6foTCjWIvF3ssf7fxuHCh69heUwA7G1ZKKlqxuzMi0jZdxnSxqHXhWWnPifE\n",
              "pk2bcOfOHWzevLnX427evBl8Pt/kVVRU1NdQKAvh2XGwJHo0cldK8Jdwb9gwwPHrdYjZloe/fn8T\n",
              "ze1qS4fYa31KiLS0NHz77bc4fvw47O3tIRAIwGazUVdXZ/iOVCrttuv4Dz/8EHK53OQVHh7etzmg\n",
              "LM6dZ4fNcS/h+NIpEAe4QaMj2H2+AlO2nMM/Csqh0g6drX+vEyI9PR0HDhzAqVOnTK5jevPNN5GZ\n",
              "mQkAKC4uxr179yAWix87DS6XCycnJ5MXi/V8nPh5lgUKefjnwnDsXRiOMUIeWpRa/O3Yr4hJz8ex\n",
              "a7VDouFtlks3fvrpJ9TX12P+/PmoqKiAra0tduzYgVdffbXHgdDzEM8WnZ7gm8tVSDt5Gw2tHRdy\n",
              "vuwzHOtmjEOYr/Veek5PzFEDSqHS4u/55fh7fjkeajp2nWa85InVU8fAR2Bv4ei6ohfCUwPKgcvG\n",
              "+zEByF0pwVsTvMAwwLFrtfhjeh7+69hNyNut61xVrxJiyZIlEIlEYBgGJSUlhnKRSITAwECEhoYi\n",
              "NDQUBw8eNHec1BDn4WSHLbND8MOSP+APo12h1umxs6AC4rRz2F1YAbW2Z/etD7ReJcTs2bNRWFgI\n",
              "X1/fLp8dPHgQJSUlKCkpwZw5c8wWIPVsGevphL0Lw7Hn3YkI8HBEc7sGf/3fm/jTtjycuG75hnev\n",
              "bhQeio9ZpawPwzCQBLojapQrvr5UjfRTtyGVtSN53xVMFDlj3YxxCPUebpHYzNaGWLBgAYKDg7Fo\n",
              "0SI0NDQ88bv0TDUFdHSjMzfCB7krJfjP10bBjmODYmkTYj87jyUHrqLqQfdPWh0oZkmI/Px8XLt2\n",
              "DVeuXIGrqyvi4+Of+H16ppoy5shlY8WfAnHuAwlmh3U0vI/+XIPo9DxsPv4r5A8Hr+Hdp8OuIpEI\n",
              "R44cQWhoaJfPamtrERAQgNbW1m7H72knA9Tz6fo9OTb98KuhlxBnew6W/TEAcyN8zNbJW3f6PXWF\n",
              "QoHm5mbD8IEDBzB+/PgnjkPPVFNPEjSSj68SI7A7YQJGuTuiqV2D1KM3MHVbPk7eqBvQhnevGtWL\n",
              "Fy/GsWPHUFdXh6lTp4LH4+HkyZOYNWsWdDodCCHw9/fH3r17Bype6jnBMAxeG+OBKaPdkF1chW2n\n",
              "bqO8UYGkLy8jws8F62aMxUtew83/u/RMNTUUtCo1yMz7Df8oqIDq0TmLN8aPxAdTA83aPSc9U00N\n",
              "CTw7DlZOHYOzH0gQN34kAODw1Xt4LS0XW07cQqvSPA1vmhDUkDJy+DCkzwnF9/8RhQg/F6i0enye\n",
              "+xsk/52LL3+8C20Pn7/RHZoQ1JAU7MVHdlIkdi6YAH9XB8gUanx05DrOG/Vf2xdDq0trijLCMAxi\n",
              "xnlAEuiGA0WV+LFchimjXfs3TWtpVMfFxUEkEnUp1+l0KCoqQnh4OD00+whdJl09bZn4+vpi6dKl\n",
              "T52O1SREd1paWsDn8yGXy+HkRJ+dBtBl8jjmWia0DUFRRmhCUJQRmhAUZcTqE4LL5SI1NRVc7rPd\n",
              "63Rv0GXSlbmWidU3qilqMFn9FoKiBhNNCIoyQhOCooxYdUKUlZVh0qRJCAgIwMSJE3Hjxg1Lh2RR\n",
              "T3pgDQVkZWWBYRgcOXKkz9Ow6oRYvHgxkpKScPv2baxevRoJCQmWDsniuntgzfNOKpVi586diIyM\n",
              "7N+EiJWqr68nPB6PaDQaQggher2eeHh4kLKyMgtHZj2Ki4uJr6+vpcOwOJ1OR6Kjo8mlS5eIWCwm\n",
              "hw8f7vO0rHYLUVVVBU9PT7DZHRfkMgwDHx+fbh/C8jzqfGDN8y49PR2TJ09GWFhYv6dFL/8eojof\n",
              "WHPmzBlLh2JR169fR05Ojtke8mm1CeHt7Y3a2lpotVqw2WwQQlBZWdntQ1ieJ50PrDl9+jTs7a2v\n",
              "B+3BVFBQAKlUitGjRwMA6urqkJSUhNraWqSkpPR+gmbbkRsAYrGYZGVlEUIIOXToEAkLC7NsQFZg\n",
              "69at5OWXXyYPHjywdChWqb9tCKu+dKO0tBQJCQmQyWRwcnJCVlYWgoODLR2WxTzpgTVUB4lEgmXL\n",
              "liE2NrZP41t1QlDUYLPao0wUZQk0ISjKCE0IijJCE4KijNCEoCgjNCEoyghNCIoyQhOCoozQhKAo\n",
              "IzQhKMoITQiKMvL/FWDlCt813JcAAAAASUVORK5CYII=\n",
              "\">\n",
              "        \n",
              "      </div>\n",
              "      <script></script>\n",
              "      <script type=\"text/javascript\">\n",
              "        (() => {\n",
              "          const chartElement = document.getElementById(\"chart-d1cc42ca-7e2e-4d6c-92c4-3348cf774b10\");\n",
              "          async function getCodeForChartHandler(event) {\n",
              "            const chartCodeResponse =  await google.colab.kernel.invokeFunction(\n",
              "                'getCodeForChart', [\"chart-d1cc42ca-7e2e-4d6c-92c4-3348cf774b10\"], {});\n",
              "            const responseJson = chartCodeResponse.data['application/json'];\n",
              "            await google.colab.notebook.addCell(responseJson.code, 'code');\n",
              "          }\n",
              "          chartElement.onclick = getCodeForChartHandler;\n",
              "        })();\n",
              "      </script>\n",
              "      <style>\n",
              "        .colab-quickchart-chart-with-code  {\n",
              "            display: block;\n",
              "            float: left;\n",
              "            border: 1px solid transparent;\n",
              "        }\n",
              "\n",
              "        .colab-quickchart-chart-with-code:hover {\n",
              "            cursor: pointer;\n",
              "            border: 1px solid #aaa;\n",
              "        }\n",
              "      </style>"
            ]
          },
          "metadata": {}
        },
        {
          "output_type": "display_data",
          "data": {
            "text/plain": [
              "import numpy as np\n",
              "from google.colab import autoviz\n",
              "df_4700122451797820028 = autoviz.get_df('df_4700122451797820028')\n",
              "\n",
              "def value_plot(df, y, sort_ascending=False, figsize=(2, 1)):\n",
              "  from matplotlib import pyplot as plt\n",
              "  if sort_ascending:\n",
              "    df = df.sort_values(y).reset_index(drop=True)\n",
              "  _, ax = plt.subplots(figsize=figsize)\n",
              "  df[y].plot(kind='line')\n",
              "  plt.title(y)\n",
              "  ax.spines[['top', 'right',]].set_visible(False)\n",
              "  plt.tight_layout()\n",
              "  return autoviz.MplChart.from_current_mpl_state()\n",
              "\n",
              "chart = value_plot(df_4700122451797820028, *['Revenue'], **{})\n",
              "chart"
            ],
            "text/html": [
              "      <div class=\"colab-quickchart-chart-with-code\" id=\"chart-5a93cee7-df01-4994-bf95-f0529760fcdc\">\n",
              "        <img src=\"data:image/png;base64,iVBORw0KGgoAAAANSUhEUgAAAMQAAABgCAYAAABCK92TAAAAOXRFWHRTb2Z0d2FyZQBNYXRwbG90\n",
              "bGliIHZlcnNpb24zLjcuMSwgaHR0cHM6Ly9tYXRwbG90bGliLm9yZy/bCgiHAAAACXBIWXMAAA9h\n",
              "AAAPYQGoP6dpAAARGklEQVR4nO3deXhU9b3H8fdkmxCYmchkhywyTChbU1kjISQ0gJjLvVDw+liU\n",
              "ZpAYCWpRFLGtEmi90LRCRaWtDRrbm9o+pBirpQUCShYRopCLgCWZkISwZScrZJnJ7/4RO51RluyT\n",
              "Cb/X8+RJMr+Zc75znvmcbX7ndxRCCIEkSQA42bsASRpMZCAkyYoMhCRZkYGQJCsyEJJkRQZCkqzI\n",
              "QEiSFRkISbIiAyFJVmQgJMmKDEQ/iY6Oxs3NjREjRqBWq5k4cSJvvvmmvcuSbkMGoh89//zzNDU1\n",
              "UVdXR1JSEomJiWRlZdm7LOkWZCAGgJOTEw8++CAjR47ks88+A+DYsWNER0ej1WoJDg7mpZdewmQy\n",
              "AbB8+XJWrVplM40TJ07g5uZGRUUFAGfPnmXRokX4+voyatQo1qxZQ3Nzs+X5ISEh/PSnPyU2NhaV\n",
              "SoVOpyMjI8PSvmnTJmbPnm0zD4PBwCOPPGL5v66ujsTERIKDg9FqtcTGxlJcXNy3C2eQkYEYACaT\n",
              "iXfffZeamhrGjx9PQUEBMTExrF69moqKCrKzs/nggw9ITk4GID4+nt27d9PU1GSZRkpKiiUA1dXV\n",
              "REZGEhMTQ1lZGSdPnqSwsJCnn37aZr67du3i5Zdfpr6+nieeeIK4uDgaGhq6VLMQgu9973s0NDSQ\n",
              "n5/P5cuXmTx5MosWLaK9vb3Pls2gI6R+ERUVJZRKpdBoNMLZ2Vk4OzuL5ORkIYQQTz31lHjooYds\n",
              "np+WliZ0Op0QQoiOjg6h0+lESkqKEEKI5uZmodFoxN69e4UQQmzbtk2Eh4fbvD43N1e4ubkJk8kk\n",
              "hBAiODhYbN682dLe1NQkAHH06FEhhBBJSUkiIiLCZhpxcXHi4YcfFkIIcfz4ceHq6ioaGxst7SaT\n",
              "Sbi7u4ucnJzeLZxBTG4h+tFzzz1HXV0dV69exWAwcODAAUwmE0ajkYyMDDw9PS0/iYmJlJeXA6BQ\n",
              "KHj00Ud56623AEhPT0elUrFw4UIAjEYjx48ft3l9bGwsCoXCMg2AgIAAy9/Dhw8HoLGxsUu1G41G\n",
              "TCYTo0ePtsxDq9UCcOHChd4vnEHKxd4F3AlUKhU7d+5k/Pjx7Ny5Ez8/P5YvX87bb79909cYDAaS\n",
              "kpI4c+YMu3btYuXKlTg5da6//Pz8mD17Nh999FGvarI+5gC4fPkyPj4+lnm4ublRVVWFq6trj+fj\n",
              "aOQWYoAolUo2btzIz372MwwGA3/5y19IT0+nra0Ns9lMUVER+/btszw/ICCA+++/nw0bNnDkyBEe\n",
              "ffRRS9vKlSvJz8/n17/+NdeuXUMIwYULF3j//fe7XM+0adM4deoUubm5mM1m0tPTyc7OtrTPnj2b\n",
              "SZMmkZiYSGVlJQBXr15lz549XLt2rfcLZJCSgRhAK1asQKvVsn//fjIzM0lJSWHUqFFotVoeeOAB\n",
              "zp8/b/P8+Ph49u7dS0xMDCEhIZbHg4KC+PTTT8nMzESn0+Hp6cl9993HqVOnulxLVFQUP/7xj1m6\n",
              "dCne3t4cPnyYZcuWWdqdnZ3JzMzEw8ODmTNnolKpCAsLIyMjA4VC0etlMVgphJDXVEvSv8gthCRZ\n",
              "kYGQJCsyEJJkRQZCkqzIQEiSFRkISbIiAyFJVhwiEDt27LB3CdIdwiH6Mn39G9w7SUu7mYqGFq7U\n",
              "t1Be30J5w1e/61u40tBCRX0LLSYzy6aMZk20Du0Ipb1LdmgOEYihSAhBQ4vJ6sN+nfL6Vsobrnd+\n",
              "2OtbqGho4eq1rl178FZuCX/OK2NV5Bgei7wblfud0yGvL8lA9IOODkF1c6tlTW69Vrf83dDCtTZz\n",
              "l6Y3zNUZP407fmr3zt/Wf6vdqWluZXtmIacvNfDaISN/+LSUNdE6fnBvCO6uzv38boeWbgeitbWV\n",
              "Z599lv379+Pu7k5YWBhpaWkYjUbi4uKorq5Go9HwzjvvMHHiRIBbtjkqk7mDLy7Vc+L81W/szlQ0\n",
              "tGDq6FoXMU8PV8uH21/jjq/a+vcw/NTuqIe53LZD3dxxPvzjdDnbDhRwrqqZLX8/y1u5JfwwRs+D\n",
              "0wJxdXaIw0W763YgXnjhBRQKBYWFhTYXpDz++OMkJCRYujYbDAbL9cO3anMkF69eI7uwmhxjFZ8U\n",
              "VdPQYrrpc50U4K1S4qcZhv9N1ux+Gvc+W4MrFApiJ/uzYIIvGfmXePWgkUt11/lJxml+l13Muvmh\n",
              "/Oe3A3ByGro9VftCt3q7Njc34+/vz8WLF1Gr1ZbHKysrGTt2LLW1tbi4uCCEwN/fn9zcXNRq9U3b\n",
              "xo4d26X5rlu3ju3bt3f/3fVSc6uJo8U1ZBdWkWOsprja9oIatbsL9+q0hGiHf2OXxnuEEhc7rpVb\n",
              "TWb+dKyMNz4uorqpDYBv+al4dsE45o33GdJduHujW1uIc+fOMXLkSLZs2cLBgwcZNmwYmzZtwtPT\n",
              "E39/f1xcOienUCgICgqirKwMjUZz07YbBaK1tZXW1labx8zmru1r91ZHh+DM5QayjVVkF1Zxouwq\n",
              "7eZ/ry+cnRTcE+jJnFBvIvVefHu0J86DdI2rdHHGEHE3/z0tkHeOlPLbrHOcLW/ksT98zj1Bnqy/\n",
              "bxyzdF72LnPQ6VYgTCYT58+fZ8KECfz85z8nPz+f+fPns3fv3j4raOvWrWzevNnmsfDw8D6b/teV\n",
              "17eQbezcAuQaq75xVidopAdzQr2I1Htzr06L2sHO3gxXuvDE3LE8MjOYN7PPkfpJKflldSxPOUak\n",
              "3ovnFowjLNDT3mUOGt3aZaqursbX15e2tjacnTv3fadPn8769euJj4/vk12mG20hXnrppT77cu56\n",
              "m5m80tqvdoOqKKxosmkfoezcDZoT6s0cvRfB2uF9Mt/BorKxhZ0fFfFuXpll67dwoh/PLghF76uy\n",
              "c3X2160thJeXFzExMezfv5/Y2FhKSkooKSkhIiKCKVOmkJaWhsFgYM+ePYwePdrygb9V29cplUqU\n",
              "Stsvl/4Vvp4QQnC2vNFyHJBXWkubqcPSrlBA2GhP5ui9iAz15juBnkP6jIyPyp3NiycRHzmGVw8a\n",
              "yci/yL4z5Rz4spwl94zimXmhBI70sHeZdtPtS0iLi4tZtWoV1dXVODk5sXHjRpYtW0ZBQQEGg4Ga\n",
              "mhrUajWpqalMnjwZ4JZtXdHdg+qqxlZyi6rIKawmp6iaqkbbLU6Axv2r4wBvIsZq8fRw6/K0hxpj\n",
              "RSPbDhSy70zn2UJXZwXfnxHEk98di4/K3c7VDTyHuKb6doFoNZk5XnqVLGNnCL68Yjs63TBXZ+7V\n",
              "aYnUdx4L6LyHy7MsX3PyQh2vHCggx1gNgLurEysj7mb1HB0aD8c6buoNhw3EuaomDhd0HgccLa6h\n",
              "pb3Dpn3SKDWR+s6zQVOD70LpIr+x7Yoj56r55f4C8svqAFC5u7A6SodhVgjDlUO/Y4PDvsPkf5zl\n",
              "wJcVlv99VEoi9d7MCfUiYqwXXrKTW4/M0nnxXqKWQ/+s5JUDBZwtb+SX+wtI/aSEJ+eO5fszg4b0\n",
              "ysVhAzFvvC/X283M0XsTGerFOF+V3A3qIwqFgnkTfPnut3z48IvLbM8s5HzNNTZ9+CUpOSWsnadn\n",
              "6T2j7PrFY39x2F0maeC0mztI//wiOw4VUtHQeYJC5z2cZxeM4/5JfkNqRTT0Ii71OVdnJ5bPDCJr\n",
              "/Vx+EjueuzxcOVfVzJo/nuC/3viErMIqHGC92iUyEFKXubs689icMWQ/P5e1MXqGuzlz6lI9cW/n\n",
              "8dDvjvJ5aa29S+w1GQip21TurjwzP5Ts5+cSP/tu3FycOFZSywO//RRDah6nL9Xbu8Qek4GQekw7\n",
              "QsmLiyaQtT6a788IwtlJweGCKha9nsuaPx6nqLJr96IYTGQgpF7z1wxj69LJHFoXxZLvBKBQwN9P\n",
              "lbPgV9ms2/1/XKh1nOHzZSCkPhPiNZxXH7qHfWvncN9EXzoEvHfiEt/ddpgX3z9FRUOLvUu8LRkI\n",
              "qc+N81Px5opp/PWJCCL1XrSbBWlHy5jzi4/5n71fUtvcZu8Sb6rHgUhNTUWhUFjuWlNZWcnChQvR\n",
              "6/VMmjTJ5m40t2qThq6wQE/+d9VM/pwQzrTgu2g1dZCSU0Jk8kdszyykoWXw3c20R4EoLS0lJSXF\n",
              "5sKdF154gfDwcIxGI6mpqSxfvtxy+9ZbtUlDX/gYLemr7yV15XQmjVLT3GbmtUNGIpM/5jeHz3G9\n",
              "i6OPDIRuB6Kjo4P4+Hhef/11m+sWdu/ezerVq4HOi4YCAgLIysq6bZt0Z1AoFMwd58OHT87mNw9P\n",
              "YazPCOqvt5O87yxzfvkxvz9SSqvJ/sHodl+m7du3ExERwdSpUy2P1dTU0N7ejp+fn+WxkJAQysrK\n",
              "btl2I/a8plrqfwqFgvsn+7Ngoh/v51/i1UOFXKi9TtIHZ/hddjFrY/QsnWK/flLdmuvp06fZs2cP\n",
              "L774Yn/Vw9atW9FoNDY/eXl5/TY/yT6cnRQsmzqaQ+uieXnJJHzVSi7VXef5PV+w4FfZfHjyMh1d\n",
              "HNuqL3UrEDk5OZSWlqLX6wkJCeHo0aMkJCSwe/duXFxcbG4aXlpaSlBQEFqt9qZtN/KjH/2I+vp6\n",
              "m58ZM2b08O1Jg52bixOPhAfb9JMqrm7mqT/l8x+v53Lwy4qB7ScleiEqKkpkZGQIIYSIi4sTSUlJ\n",
              "Qggh8vLyREBAgGhra7ttW1c888wzvSlTciCNLe1ix8FCMWnjPhG84W8ieMPfxJKdueITY9WAzL/P\n",
              "rodITk5mxYoV6PV63NzcSEtLw9XV9bZtkmRthNKFH8bo+cG9wfw2q5h3jpR0Dpuz6xizdFqeu28c\n",
              "U4Lu6rf5y+shpEGtsqGFnR/bDpszb7wP6+aPY0KA+jav7j75TbU0qPmoO4fN+fi5aB6cNhonBRz8\n",
              "ZyWxr+Xw5LsnOFfVdPuJdIMMhOQQRt/lwS8eCCNzXRSLvu0PwN++uML87VmsTz/Jxat904FQBkJy\n",
              "KDrvEbyxfAp//2Ek88b70CEg/fhF5r5ymKS/nqaysXcdCGUgJIc0IUDNrrjpvLdmFrN0WtrNgt9/\n",
              "ep4dB429mq7DjrohSQBTgu7i3cfCOVJUzY5DRp6Y27VbLNyMQ5xlWrp0KSEhITaPmc1m8vLymDFj\n",
              "Rq/GfnV0cjl0ut1yCA4OZu3atbedjkME4kYaGhrQaDTU19fb3LzlTiOXQ6e+Wg7yGEKSrMhASJIV\n",
              "GQhJsuKwgVAqlSQlJX3j5ip3GrkcOvXVcnDYg2pJ6g8Ou4WQpP4gAyFJVmQgJMmKwwbCaDQya9Ys\n",
              "QkNDmT59OmfOnLF3SQOupaWFJUuWEBoaSlhYGPPnz6eoqMjeZdnN18cK6wmHDcTjjz9OQkIChYWF\n",
              "bNiwAYPBYO+S7CIhIYGCggJOnjzJ4sWLiY+Pt3dJdnGjscJ6ZEAuVO1jFRUVQqVSifb2diGEEB0d\n",
              "HcLX11cYjUY7V2Zfn332mQgODrZ3GQPObDaLmJgY8fnnn9tc598TDrmFuHDhAv7+/ri4dHbWVSgU\n",
              "BAUF3XSspzvFjh07WLx4sb3LGHA3Giusp2T37yFiy5YtFBUVcejQIXuXMqD+NVZYX40X7JCBCAwM\n",
              "5MqVK5hMJlxcXBBCUFZWdtOxnoa6V155hffee4+DBw/i4eFh73IGlPVYYQDl5eUkJCRw5coVEhMT\n",
              "uz/BPtuRG2BRUVEiNTVVCCFEenq6mDp1qn0LspNt27aJKVOmiNraWnuXMij09hjCYbtuFBQUYDAY\n",
              "qKmpQa1Wk5qayuTJk+1d1oC6ePEigYGBjBkzBpVKBXT26Tl27JidK7Of6Ohonn76aZYsWdKj1zts\n",
              "ICSpPzjkWSZJ6i8yEJJkRQZCkqzIQEiSFRkISbIiAyFJVmQgJMmKDIQkWZGBkCQrMhCSZEUGQpKs\n",
              "/D84TRF9vz3bvgAAAABJRU5ErkJggg==\n",
              "\">\n",
              "        \n",
              "      </div>\n",
              "      <script></script>\n",
              "      <script type=\"text/javascript\">\n",
              "        (() => {\n",
              "          const chartElement = document.getElementById(\"chart-5a93cee7-df01-4994-bf95-f0529760fcdc\");\n",
              "          async function getCodeForChartHandler(event) {\n",
              "            const chartCodeResponse =  await google.colab.kernel.invokeFunction(\n",
              "                'getCodeForChart', [\"chart-5a93cee7-df01-4994-bf95-f0529760fcdc\"], {});\n",
              "            const responseJson = chartCodeResponse.data['application/json'];\n",
              "            await google.colab.notebook.addCell(responseJson.code, 'code');\n",
              "          }\n",
              "          chartElement.onclick = getCodeForChartHandler;\n",
              "        })();\n",
              "      </script>\n",
              "      <style>\n",
              "        .colab-quickchart-chart-with-code  {\n",
              "            display: block;\n",
              "            float: left;\n",
              "            border: 1px solid transparent;\n",
              "        }\n",
              "\n",
              "        .colab-quickchart-chart-with-code:hover {\n",
              "            cursor: pointer;\n",
              "            border: 1px solid #aaa;\n",
              "        }\n",
              "      </style>"
            ]
          },
          "metadata": {}
        },
        {
          "output_type": "display_data",
          "data": {
            "text/plain": [
              "<google.colab._quickchart_helpers.SectionTitle at 0x7b4ca5ea25c0>"
            ],
            "text/html": [
              "<h4 class=\"colab-quickchart-section-title\">Distributions</h4>\n",
              "<style>\n",
              "  .colab-quickchart-section-title {\n",
              "      clear: both;\n",
              "  }\n",
              "</style>"
            ]
          },
          "metadata": {}
        },
        {
          "output_type": "display_data",
          "data": {
            "text/plain": [
              "import numpy as np\n",
              "from google.colab import autoviz\n",
              "df_4700122451797820028 = autoviz.get_df('df_4700122451797820028')\n",
              "\n",
              "def histogram(df, colname, num_bins=20, figsize=(2, 1)):\n",
              "  from matplotlib import pyplot as plt\n",
              "  _, ax = plt.subplots(figsize=figsize)\n",
              "  plt.hist(df[colname], bins=num_bins, histtype='stepfilled')\n",
              "  plt.ylabel('count')\n",
              "  plt.title(colname)\n",
              "  ax.spines[['top', 'right',]].set_visible(False)\n",
              "  plt.tight_layout()\n",
              "  return autoviz.MplChart.from_current_mpl_state()\n",
              "\n",
              "chart = histogram(df_4700122451797820028, *['Temperature'], **{})\n",
              "chart"
            ],
            "text/html": [
              "      <div class=\"colab-quickchart-chart-with-code\" id=\"chart-d3ac4236-3897-4bfe-8e32-d0719b476c33\">\n",
              "        <img src=\"data:image/png;base64,iVBORw0KGgoAAAANSUhEUgAAALkAAABgCAYAAABBnNO7AAAAOXRFWHRTb2Z0d2FyZQBNYXRwbG90\n",
              "bGliIHZlcnNpb24zLjcuMSwgaHR0cHM6Ly9tYXRwbG90bGliLm9yZy/bCgiHAAAACXBIWXMAAA9h\n",
              "AAAPYQGoP6dpAAAM8ElEQVR4nO3dbVBUZRsH8P+yCzjAQivLW67uQiQ6wkAhiGks5TgZT5MElTOm\n",
              "sqWDME1QMpEJtJgz2NhoEH3AcRpIHbGSmD5YTfSiQFgg6eCHMBwzIYQVA1QElt29ng88nmFVkH04\n",
              "+9J2/WZ2hnPv2XOus/z3cO/hnPtIiIjAmBvzcHYBjNkbh5y5PQ45c3sccub2OOTM7XHImdvjkDO3\n",
              "xyFnbo9Dztweh5y5vX99yP38/ISHl5cXpFKpVVtjY6OzSxRNSkoKioqKnF2Gw8mcXYCz3bx5U/i5\n",
              "qKgITU1NOHHihPMK+j8YjUZ4eXk5bH3j4+Pw9PR02Ppm61+/J5/O6OgoduzYgYceeggKhQLJyck4\n",
              "c+aM8HxJSQlWrlyJd955B2FhYfD390dBQQEGBgawbt06BAQEQKPR4MsvvxReU11dDZVKhfLycqhU\n",
              "KgQGBuKVV16x+rANDg4iJycHarUagYGBSE1NxcWLF4XndTodXnzxReTk5CAoKAhr164FAGRlZUGj\n",
              "0cDPzw/h4eHQ6/WwWCwAgOzsbDQ2NmLPnj3CX6nJ2zCZTqfDhg0bhGmNRgO9Xo81a9ZALpdj7969\n",
              "AICDBw8iNjYWAQEBWLJkCY4ePSrWWy8uYoLCwkLSarXCdGZmJq1atYq6urpofHycKioqKCgoiAYG\n",
              "BoiISK/Xk0wmo7KyMjIajdTS0kIymYzi4+OpoaGBzGYz7d27lxQKBQ0PDxMRUVVVFUmlUtLpdHTz\n",
              "5k3q7u6mpUuX0pYtW4iIyGKxUEpKCq1fv56uXbtGo6OjVFBQQIsXLyaj0SjUJZPJ6OOPPyaj0Sgs\n",
              "+8CBA9Tb20sWi4VOnTpFc+fOpcrKSmF7tFotFRYWWm2zXq+nFStWWLVlZmbSSy+9JEyr1WoKCQmh\n",
              "5uZmslgsNDw8TFVVVTR//nxqbW0ls9lMjY2NJJfLqbGxUZxfhog45JNMDnl/fz8BoI6ODqt5IiMj\n",
              "6dChQ0Q0EZCIiAir5+Pi4igrK0uYvr2cs2fPEtFEyD08PGhwcFCY56uvviJPT08ymUzU1tZGnp6e\n",
              "dOPGDeF5k8lEc+bMEQKUmZlJSUlJ992e3NxcSk9PF6ZnE/Lt27dbzRMTE2P1ASIi2rJlC23evPm+\n",
              "dTnav75PPpULFy4AAJYtW2bVbjQa0d3dLUyHhYVZPe/r62vV5uvrCwC4ceOG0KZQKBAQECBMh4eH\n",
              "Y3x8HH19fejs7ITJZIJKpbqrpq6uLqvXTEZEKC0txZEjR9DT0wMiwujoKBISEma8zdO5c32dnZ3I\n",
              "z8/HW2+9JbSZTCYkJyeLsj4xccinEBoaCgBob2/HggULRF32wMAAhoaGhKBfunQJnp6eCAkJQWho\n",
              "KLy8vHD16tVpv9x5eFh/nTp69CjKysrwzTffIC4uDlKpFHl5eWhra5vyNQAgl8sxPDxs1dbT04Pg\n",
              "4OBp1xcaGoqdO3di06ZNM9toJ+IvnlNQq9VIS0vDq6++ij///BPAxN7466+/xpUrV2a1bIlEgvz8\n",
              "fAwPD6Onpwd6vR4bN26EVCrFypUrER0djZycHBgMBgATH4ra2lrcunVrymUODQ1BJpMhODgYEokE\n",
              "P/74Iw4fPmw1T2hoKH7//XertqVLl+LcuXNoamqC2WzG559/joaGhvtuw+uvv45du3ahtbUVFosF\n",
              "Y2NjaG1ttfpQuQoO+TSOHDmC+Ph4rF69GnK5HFFRUThw4ABollcMhoaGIiYmBgsXLkR0dDQWL16M\n",
              "srIyAIBUKkV9fT18fHywbNkyyOVyxMbGoq6uDhKJZMpl6nQ6rFq1CjExMVAqlaisrLQ6QgIA+fn5\n",
              "OH/+PBQKBR544AEAgFarxY4dO5Ceno6goCCcOHECGRkZ992GvLw8lJSUIDs7G3PnzsW8efPw5ptv\n",
              "3vVXwRVIaLa/MWaT6upqFBUVWfXrmX3xnpy5PQ45c3vcXWFuj/fkzO1xyJnbs2vIc3NzodFoIJFI\n",
              "cPbsWXuuirEp2TXkzz//PJqamqBWq+25GsamZdeQJycn3/McjJkoLy8XuRr2b+US566MjY1hbGzM\n",
              "qm3y+dOMzYZLhHz37t3YuXOnVVtSUtI959VsPz7lci699x9R6/qnmOo9ccT7Md3vYypT1WWv7XCJ\n",
              "oytvv/02hoaGrB6JiYnOLou5CZfYk3t7e8Pb29uqTSqVOqka5m5s3pO3t7fPqA0Atm7dCpVKhe7u\n",
              "bjz11FOIjIy0vULGZsnmkOt0uhm1AcD+/fvR3d0Nk8mEvr4+4Wobxhxpxt0Vg8GA3t5ejIyM4Ny5\n",
              "c8I51UNDQy55DjFjt8045DU1NSgrK0NPTw+effZZoT0gIAAFBQV2KY4xMcw45Hl5ecjLy8OuXbtQ\n",
              "XFxsz5oYE5XNR1eKi4thsVjQ29sLk8kktIt9sS9jYrE55J988glee+01eHp6CldwSyQS4aJbxlyN\n",
              "zSF/99130draiqioKHvUw5jobD6EqFQqOeDsH8XmkKelpaGsrAwGgwHXr18XHoy5Kpu7K4WFhQCA\n",
              "bdu2QSKRgIggkUhgNptFL44xMdgc8ttDATP2T+ESZyEyZk8278k9PDzuOVwZd1eYq7I55JOHIB4Z\n",
              "GcHBgwc54Myl2dxd8fX1FR5KpRLbtm3DsWPH7FEbY6KYdZ+8o6MD/f39YtTCmF3Y3F1RKBRCn/z2\n",
              "uSsVFRXiVsWYiGwO+eRBgmQyGUJDQ/lSNebSbA65Wq3GrVu3hLArFAr4+PiIXRdjorE55M3NzcjI\n",
              "yBDuqdPX14fa2losX75c9OIYE4PNIb99NGXFihUAJkL/xhtv4Oeffxa9OMbEYPPRlZGRESHgAPDY\n",
              "Y49hdHRU1KIYE5PNIffz88N3330nTH///ffCvSoZc0U2d1c+/PBDpKenC0dULBYLvvjiC9ELY0ws\n",
              "Noe8p6cHp0+fRl9fHwAgJCQELS0tohfGmFhs7q4UFxcjKCgI0dHRiI6OhlKp5Kv3mUub9b/1+YIJ\n",
              "5upsDrlcLkdzc7Mw/dNPP0Eul4taFGNisrlPvmfPHjz33HNYtGgRAKCzsxN1dXX3nLezsxOZmZno\n",
              "7+9HQEAAqqursWTJktlVzJiNbA758uXL8dtvv+HUqVMAJo6T375P+522bt2KrKws6HQ6HDt2DDqd\n",
              "Dq2trbMqmDFb/V99coVCgdTUVKSmpk4ZcIPBgNOnT2PDhg0AgIyMDHR1dfHItszh7DYIf1dXF8LC\n",
              "wiCTTaxCIpFgwYIFuHz58l3jlN/rnkH8ZZaJxW63HW9ra8P69etx/vx5oS0xMRHvvfcennzySat5\n",
              "S0pK7rpn0KJFi/D000/bo7QZMZvNaGlpQWJiokudSuyqdQGOr02tViMvL+++89kt5AaDAZGRkfj7\n",
              "778hk8lARAgLC0NTU9OM9uT3usWKI12/fh0BAQEYGhqCv7+/0+q4k6vWBbhubXYbkiI4OBiPPvoo\n",
              "Dh8+DACora2FSqW65y1VvL294e/vb/VwZsCZe7HrjbH2798PnU6H0tJS+Pv7o6qqyp6rY+ye7Bry\n",
              "qKgo4VAjY87CI2hNwdvbG3q93uW6Ta5aF+C6tdntiydjroL35MztcciZ2+OQM7fHIQeQm5sLjUYD\n",
              "iURiNXiSRqNBVFQU4uLiEBcXh08//dShdY2OjiItLQ0LFy5EbGwsVq9eLZz7YzAYsGbNGjz88MOI\n",
              "jo5GQ0ODy9SWkpKC8PBw4X374IMPHFrbXYjRyZMnqauri9RqNZ05c0Zov3Pa0UZGRuj48eNksViI\n",
              "iKiiooK0Wi0REb388suk1+uJiKilpYXmzZtHRqPRJWrTarVUV1fnsFruh/fkAJKTk6FSqZxdxl3m\n",
              "zJmD1NRUYezJpKQkXLp0CQDw2WefITs7GwCQkJCABx98ECdPnnSJ2lwNh/w+Nm3ahJiYGGzevBlX\n",
              "r151ai3l5eVYu3Ytrl27hvHxcWEUM2Cia3X58mWn13bb9u3bERMTg3Xr1uHixYtOqwvgkE+roaEB\n",
              "7e3t+PXXX6FUKpGZmem0WkpLS3HhwgXs3r3baTVM5c7aDh06hI6ODrS3t+Pxxx/HM88849wCnd1f\n",
              "ciXT9cF7enrIz8/PsQX9z/vvv0/x8fE0MDAgtPn4+NCVK1eE6YSEBKqvr3eJ2u7k7e1N/f39jivq\n",
              "Drwnn8Lw8DAGBweF6ZqaGjzyyCMOr2Pfvn2oqalBfX291VVYL7zwAiorKwEAra2t+Ouvv6DVap1e\n",
              "m8lkEsbkASbOPg0JCUFgYKBDa5uM/62PiWtRjx8/jt7eXgQGBkIul+Pbb79FRkYGzGYziAgREREo\n",
              "Ly+HRqNxWF3d3d2YP38+IiIihBERvL298csvv6Cvrw8bN27EH3/8AS8vL3z00Ud44oknnF7bDz/8\n",
              "AK1Wi7GxMXh4eECpVGLfvn2IjY11WG134pAzt8fdFeb2OOTM7XHImdvjkDO3xyFnbo9Dztweh5y5\n",
              "PQ45c3sccub2OOTM7XHImdv7L8dIUR4fU+qFAAAAAElFTkSuQmCC\n",
              "\">\n",
              "        \n",
              "      </div>\n",
              "      <script></script>\n",
              "      <script type=\"text/javascript\">\n",
              "        (() => {\n",
              "          const chartElement = document.getElementById(\"chart-d3ac4236-3897-4bfe-8e32-d0719b476c33\");\n",
              "          async function getCodeForChartHandler(event) {\n",
              "            const chartCodeResponse =  await google.colab.kernel.invokeFunction(\n",
              "                'getCodeForChart', [\"chart-d3ac4236-3897-4bfe-8e32-d0719b476c33\"], {});\n",
              "            const responseJson = chartCodeResponse.data['application/json'];\n",
              "            await google.colab.notebook.addCell(responseJson.code, 'code');\n",
              "          }\n",
              "          chartElement.onclick = getCodeForChartHandler;\n",
              "        })();\n",
              "      </script>\n",
              "      <style>\n",
              "        .colab-quickchart-chart-with-code  {\n",
              "            display: block;\n",
              "            float: left;\n",
              "            border: 1px solid transparent;\n",
              "        }\n",
              "\n",
              "        .colab-quickchart-chart-with-code:hover {\n",
              "            cursor: pointer;\n",
              "            border: 1px solid #aaa;\n",
              "        }\n",
              "      </style>"
            ]
          },
          "metadata": {}
        },
        {
          "output_type": "display_data",
          "data": {
            "text/plain": [
              "import numpy as np\n",
              "from google.colab import autoviz\n",
              "df_4700122451797820028 = autoviz.get_df('df_4700122451797820028')\n",
              "\n",
              "def histogram(df, colname, num_bins=20, figsize=(2, 1)):\n",
              "  from matplotlib import pyplot as plt\n",
              "  _, ax = plt.subplots(figsize=figsize)\n",
              "  plt.hist(df[colname], bins=num_bins, histtype='stepfilled')\n",
              "  plt.ylabel('count')\n",
              "  plt.title(colname)\n",
              "  ax.spines[['top', 'right',]].set_visible(False)\n",
              "  plt.tight_layout()\n",
              "  return autoviz.MplChart.from_current_mpl_state()\n",
              "\n",
              "chart = histogram(df_4700122451797820028, *['Revenue'], **{})\n",
              "chart"
            ],
            "text/html": [
              "      <div class=\"colab-quickchart-chart-with-code\" id=\"chart-064fac5d-6b21-4866-bd5c-26cbe491c3c0\">\n",
              "        <img src=\"data:image/png;base64,iVBORw0KGgoAAAANSUhEUgAAALkAAABgCAYAAABBnNO7AAAAOXRFWHRTb2Z0d2FyZQBNYXRwbG90\n",
              "bGliIHZlcnNpb24zLjcuMSwgaHR0cHM6Ly9tYXRwbG90bGliLm9yZy/bCgiHAAAACXBIWXMAAA9h\n",
              "AAAPYQGoP6dpAAAMr0lEQVR4nO3df1AU9f8H8Ofx6ww4DjwQBPKYASL1QCZ+BAJBMabxcZwUpxo0\n",
              "OczJKA1zGv30g8AfY9mMjdnIDINFOU6NAZ7TDE2FWRGh8UMKcsJONIGIQ4wfIoQc9/r+wbTjfVRk\n",
              "vb3P3We/r8fMzXD73rt9sfecvffuvXdXQUQExmTMxdEFMGZvHHImexxyJnscciZ7HHImexxyJnsc\n",
              "ciZ7HHImexxyJnscciZ7HHIbZGRkwMPDA97e3vDx8cHChQtRWlrq6LLYf+CQ22jbtm0YGRnB4OAg\n",
              "ioqKkJ+fj++++87RZbEbcMgl4uLigieeeAKzZ89GY2MjAODHH39ERkYGNBoNtFotCgsLYTabAQA5\n",
              "OTl45plnrN7jzJkz8PDwgMlkAgC0t7dj+fLlCAwMREhICJ5//nlcu3ZNmD8sLAw7d+5EVlYWVCoV\n",
              "wsPDYTAYhPbi4mKkpqZaLUOv12Pt2rXC88HBQeTn50Or1UKj0SArKwsXLlyQduU4GIdcImazGR9/\n",
              "/DGuXLmC+fPn49y5c8jMzMRzzz0Hk8mE2tpafPbZZ9i7dy8AYMOGDfj0008xMjIivEdZWZkQ6v7+\n",
              "fqSlpSEzMxOdnZ34+eef8dtvv2HLli1Wyz106BB2796NoaEhvPDCC8jNzcXw8PCMaiYirFy5EsPD\n",
              "w2hpaUFPTw+io6OxfPlyTExMSLZuHI7YXUtPTyelUklqtZpcXV3J1dWV9u7dS0REmzdvpqeeespq\n",
              "/iNHjlB4eDgREVksFgoPD6eysjIiIrp27Rqp1Wqqrq4mIqJ9+/ZRUlKS1evr6urIw8ODzGYzERFp\n",
              "tVrasWOH0D4yMkIA6PTp00REVFRURCkpKVbvkZubS2vWrCEioubmZnJ3d6erV68K7WazmWbNmkXf\n",
              "f/+9bSvHifCW3EYvv/wyBgcHMTAwAL1ej6+++gpmsxlGoxEGgwG+vr7CIz8/H729vQAAhUKB9evX\n",
              "4/333wcAVFRUQKVSYdmyZQAAo9GI5uZmq9dnZWVBoVAI7wEAwcHBwt9eXl4AgKtXr86odqPRCLPZ\n",
              "jNDQUGEZGo0GANDV1WX7ynESbo4uQC5UKhUOHjyI+fPn4+DBgwgKCkJOTg4++OCD275Gr9ejqKgI\n",
              "Z8+exaFDh5CXlwcXl6ntTlBQEFJTU3Hy5EmbarqxDw8APT09mDNnjrAMDw8PXL58Ge7u7ne9HGfH\n",
              "W3IJKZVKvPHGG9i1axf0ej0qKytRUVGB69evY3JyEufPn8cXX3whzB8cHIzHHnsM27dvR319Pdav\n",
              "Xy+05eXloaWlBSUlJRgdHQURoaurC8ePH59xPfHx8Whra0NdXR0mJydRUVGB2tpaoT01NRU6nQ75\n",
              "+fno6+sDAAwMDKCqqgqjo6O2rxAnwSGX2NNPPw2NRoMvv/wSNTU1KCsrQ0hICDQaDVavXo1Lly5Z\n",
              "zb9hwwZUV1cjMzMTYWFhwvR58+bh1KlTqKmpQXh4OHx9fbF06VK0tbXNuJb09HS8+uqrWLVqFQIC\n",
              "AvDtt98iOztbaHd1dUVNTQ08PT3x4IMPQqVSYdGiRTAYDFAoFDavC2ehIOJzPJm88ZacyR6HnMke\n",
              "h5zJHoecyR6HnMmeXUP+4osvIiwsDAqFAj/99JM9F8XYbdk15KtXr0ZdXR20Wq09F8PYtOwa8oce\n",
              "egihoaF39dp3331X4mrY/1dOMXZlfHwc4+PjVtPkNqaZOY5ThPzNN9/Ejh07rKYlJSXdct6wf1ff\n",
              "9n1+f+tfktblKLf7H8X+f1K9z924m8/JXvU6xdGVV155BUNDQ1aPxMRER5fFZMIptuRKpRJKpdJq\n",
              "mqurq4OqYXIjekve2to6o2kAsHHjRoSGhqK7uxtLly5FRESE+AoZs5HokOv1+hlNA4DS0lJ0d3fD\n",
              "bDbDZDLh/PnzYhfHmM1m3F3p6+tDb28vxsbG0NbWhn9G6A4NDd109gljzmTGIf/kk0+wf/9+9PT0\n",
              "YMWKFcJ0tVqNbdu22aU4xqQw45AXFBSgoKAAu3btQmFhoT1rYkxSoo+uFBYWwmKxoLe3V7hQDjB1\n",
              "uhZjzkh0yD/66CNs3rwZ7u7uwpnlCoVCOBGWMWcjOuQ7d+5EY2MjoqKi7FEPY5ITfQjR39+fA87+\n",
              "p4gO+eOPP479+/ejr68Pw8PDwoMxZyW6u/Laa68BALZu3QqFQgEigkKhwOTkpOTFMSYF0SG3WCz2\n",
              "qIMxu3GKUYiM2ZPoLbmLi8stLyHG3RXmrESH/MbLAo+NjeHw4cMccObURHdXvLy8hIe/vz+2bt2K\n",
              "yspKe9TGmCRs7pO3t7ejv79filoYswvR3RU/Pz+hT/7P2JX33ntP2qoYk5DokN94kSA3NzcEBQXx\n",
              "qWrMqYkOuVarxejoqBB2Pz8/eHp6Sl0XY5IRHfL6+npkZ2cjKCgIAGAymVBVVYXk5GTJi2NMCqJD\n",
              "/s/RlJSUFABToX/ppZdw+vRpyYtjTAqij66MjY0JAQeAxYsX4++//5a0KMakJDrk3t7eOHHihPD8\n",
              "66+/Fu4fyZgzEt1dOXDgAFatWiUcUbFYLDh27JjkhTEmFdEh7+npQVNTE0wmEwAgMDAQDQ0NkhfG\n",
              "mFREd1cKCwsREBAAnU4HnU4Hf39/PnufOTWbf9bnEyaYsxMdcpVKhfr6euH5Dz/8AJVKJWlRjElJ\n",
              "dJ/87bffxsqVK3H//fcDAIxGIwwGwy3nNRqNyM3NRX9/P9RqNT788EMsXLjQtooZE0l0yJOTk/Hr\n",
              "r7/i1KlTAKaOk/v6+t5y3o0bN+LZZ5+FXq9HZWUl9Ho9GhsbbSqYMbHuqk/u5+eHrKwsZGVl3Tbg\n",
              "fX19aGpqwtq1awEA2dnZ6Orq4ivbsv86u12Ev6urC3PnzoWb29QiFAoF5s2bh87OzpuuU36rewbx\n",
              "ziyTioL+uQazxJqbm5GTk4Nz584J0xITE/HWW2/hkUcesZq3uLj4pnsGaTQarFmzxmmG8U5OTqKh\n",
              "oQGJiYlOURPXMzUitqCg4I7z2S3kfX19iIiIwF9//QU3NzcQEebOnYu6uro7bsmHh4dx7733Ymho\n",
              "CD4+PvYoT7Th4WGo1WqnqYnrmTm7XZJizpw5eOCBB3DkyBEAQFVVFUJDQ295SxWlUgkfHx+rB2NS\n",
              "seuNsUpLS6HX67Fnzx74+PigvLzcnotj7JbsGvKoqCjhUCNjjuKUV9BSKpUoKiq66baHjuRsNXE9\n",
              "M2e3HU/GnIVTbskZkxKHnMkeh5zJnsNC/uijjyImJgaxsbFIS0tDS0sLgKmRi4sXL8Z9992HhIQE\n",
              "nD17VnjNdG1SKS8vh0KhwPHjxwFM/ai1bNkyREZGQqfToba2Vph3ujZbhYWFISoqCrGxsYiNjcXR\n",
              "o0cBOG79jI+PY9OmTYiMjER0dLQwJsnRn9eMkIMMDAwIfx87doxiYmKIiOjhhx+m8vJyIiKqqKig\n",
              "+Ph4Yb7p2qRw8eJFSk5OpqSkJDIYDERElJeXR0VFRURE1NDQQCEhIXT9+vU7ttlKq9VSS0vLTdMd\n",
              "tX62bNlCmzZtIovFQkREf/75p0PrEcNhIb9ReXk5LVq0iEwmE6lUKpqYmCAiIovFQoGBgWQ0Gqdt\n",
              "k8Lk5CRlZmZSU1MTpaenCyH38vISPlAiooSEBKqpqbljm61uFXJHrZ+RkRFSqVQ0NDTkFPWIZdcf\n",
              "g+5k3bp1+OabbwAAn3/++bQjF9Vq9YxHNd6Nd955BykpKYiLixOmXblyBRMTE8LVwoCpbkRnZ+e0\n",
              "bVJZt24diEgY2Oao9dPR0YHZs2djz549OHHiBO655x4UFxfD19fXYZ+XGA7d8Tx8+DC6urqwe/du\n",
              "bN++3WF1/PLLL6iqqsLrr7/usBr+U21tLVpbW3HmzBn4+/sjNzfXYbWYzWZcunQJCxYsQFNTEw4c\n",
              "OIAnn3zS6o7cTu2//t1xG7NmzaLe3l6HfP2VlJRQUFAQabVa0mq1pFQqKSAggEpKSsjT0/O2XZLp\n",
              "2qTU09ND3t7eDuseXL58mVxcXMhsNgvT4uPj6ejRo/8T3RWHhHxgYID++OMP4bnBYKCQkBCyWCyU\n",
              "np5utbMSFxcnzDddm5Ru7JPn5uZa7VwGBwcLO5fTtdliZGTEasd83759lJaWJtTmiPWzZMkSqq6u\n",
              "JiKiCxcukEajoe7ubqf4vO7EISH//fffKSEhgXQ6HcXExFBmZqawk9Xe3k5JSUkUGRlJcXFx1Nra\n",
              "KrxuujYp3Rjy3t5eWrJkCUVERNCCBQvo5MmTwnzTtdmio6ODYmNjKTo6mnQ6Ha1YsYIuXrxIRI5b\n",
              "Px0dHZSRkSF8ZpWVlQ6tRwweu8Jkj3/xZLLHIWeyxyFnsschZ7LHIWeyxyFnsschZ7LHIWeyxyFn\n",
              "sschZ7LHIWey938UvCzfpqyeFQAAAABJRU5ErkJggg==\n",
              "\">\n",
              "        \n",
              "      </div>\n",
              "      <script></script>\n",
              "      <script type=\"text/javascript\">\n",
              "        (() => {\n",
              "          const chartElement = document.getElementById(\"chart-064fac5d-6b21-4866-bd5c-26cbe491c3c0\");\n",
              "          async function getCodeForChartHandler(event) {\n",
              "            const chartCodeResponse =  await google.colab.kernel.invokeFunction(\n",
              "                'getCodeForChart', [\"chart-064fac5d-6b21-4866-bd5c-26cbe491c3c0\"], {});\n",
              "            const responseJson = chartCodeResponse.data['application/json'];\n",
              "            await google.colab.notebook.addCell(responseJson.code, 'code');\n",
              "          }\n",
              "          chartElement.onclick = getCodeForChartHandler;\n",
              "        })();\n",
              "      </script>\n",
              "      <style>\n",
              "        .colab-quickchart-chart-with-code  {\n",
              "            display: block;\n",
              "            float: left;\n",
              "            border: 1px solid transparent;\n",
              "        }\n",
              "\n",
              "        .colab-quickchart-chart-with-code:hover {\n",
              "            cursor: pointer;\n",
              "            border: 1px solid #aaa;\n",
              "        }\n",
              "      </style>"
            ]
          },
          "metadata": {}
        },
        {
          "output_type": "display_data",
          "data": {
            "text/plain": [
              "<google.colab._quickchart_helpers.SectionTitle at 0x7b4ca5f61030>"
            ],
            "text/html": [
              "<h4 class=\"colab-quickchart-section-title\">2-d distributions</h4>\n",
              "<style>\n",
              "  .colab-quickchart-section-title {\n",
              "      clear: both;\n",
              "  }\n",
              "</style>"
            ]
          },
          "metadata": {}
        },
        {
          "output_type": "display_data",
          "data": {
            "text/plain": [
              "import numpy as np\n",
              "from google.colab import autoviz\n",
              "df_4700122451797820028 = autoviz.get_df('df_4700122451797820028')\n",
              "\n",
              "def scatter_plots(df, colname_pairs, scatter_plot_size=2.5, size=8, alpha=.6):\n",
              "  from matplotlib import pyplot as plt\n",
              "  plt.figure(figsize=(len(colname_pairs) * scatter_plot_size, scatter_plot_size))\n",
              "  for plot_i, (x_colname, y_colname) in enumerate(colname_pairs, start=1):\n",
              "    ax = plt.subplot(1, len(colname_pairs), plot_i)\n",
              "    ax.scatter(df[x_colname], df[y_colname], s=size, alpha=alpha)\n",
              "    plt.xlabel(x_colname)\n",
              "    plt.ylabel(y_colname)\n",
              "    ax.spines[['top', 'right',]].set_visible(False)\n",
              "  plt.tight_layout()\n",
              "  return autoviz.MplChart.from_current_mpl_state()\n",
              "\n",
              "chart = scatter_plots(df_4700122451797820028, *[[['Temperature', 'Revenue']]], **{})\n",
              "chart"
            ],
            "text/html": [
              "      <div class=\"colab-quickchart-chart-with-code\" id=\"chart-e14541f1-89f9-4308-ac77-da908ebb0d6d\">\n",
              "        <img src=\"data:image/png;base64,iVBORw0KGgoAAAANSUhEUgAAAPYAAAD2CAYAAADlEnrIAAAAOXRFWHRTb2Z0d2FyZQBNYXRwbG90\n",
              "bGliIHZlcnNpb24zLjcuMSwgaHR0cHM6Ly9tYXRwbG90bGliLm9yZy/bCgiHAAAACXBIWXMAAA9h\n",
              "AAAPYQGoP6dpAAAZ4ElEQVR4nO3de0yUV94H8O9wcQaFwchFsRZwBLwUdBChlBbRGi+xbpcNa9xa\n",
              "C+xatW5cN16yaqKrTfqipg0u2hhdm8WglWC10o02VtytotluhdUNbLduBeUiAkNVBnCdYRjO+4ev\n",
              "z9vRYcrAjAOH7yeZhOcyM7+j+XLm8nB+KiGEABFJxcvTBRCR6zHYRBJisIkkxGATSYjBJpIQg00k\n",
              "IQabSEIMNpGEGGwiCUkX7Ly8PE+XQORx0gW7trbW0yUQeZx0wSYiBptISgw2kYQYbCIJMdhEA4TF\n",
              "2o17DzphsXb3+7F8XFAPEfVTlaEDh0pvoqXDjJAANVak6hAV6t/nx+OMTeRhFms3DpXeRHVLBzS+\n",
              "3qg2dODQpZv9mrk5YxN5WLupCy0dZoRqNQj08wUAtLSb0W7qwqgRw/r0mG6dsc1mM9asWYPo6GjE\n",
              "xcVh2bJlAIDIyEhMnDgRer0eer0eRUVFyn1u3LiBlJQUxMTEIDExEd988407SyTyuACND0IC1DC0\n",
              "mWB8aIGhzYSQADUCNH2fd906Y2/evBkqlQrfffcdVCoVmpqalGNFRUXQ6/VP3WfVqlVYuXIlsrOz\n",
              "ceLECWRnZ6OsrMydZRJ5lK+3F1ak6nDo0k20tJsxIdQfK1J18PXux7wr3KSjo0MEBAQIo9H41LGI\n",
              "iAhx7dq1p/Y3NzeLgIAAYbFYhBBCdHd3i9GjR4sbN270+nnXrVvX55qJPKmzyyrudphFZ5e134/l\n",
              "tpfi1dXVGDVqFHJycjBjxgykpqbiL3/5i3I8MzMTcXFxWL58OVpaWgAA9fX1CAsLg4/PoxcSKpUK\n",
              "4eHhqKurs/scZrMZbW1tNjer1equIRG5la+3F0aNGNa/mfr/uC3YXV1dqK2txZQpU1BeXo69e/di\n",
              "yZIlaG5uRmlpKSoqKnD16lUEBwcjKyurT8+xc+dOBAYG2tyuXLni4pEQDUIueAVhV0tLi/Dy8hJd\n",
              "XV3KvhkzZoiSkhKb8+7cuSP8/f2FEM6/FDeZTMJoNNrc1q5d66YREQ0ebpuxg4ODMWfOHHzxxRcA\n",
              "gFu3buHWrVuYPHkyWltblfMKCwsRHx8PAAgNDcX06dNx9OhRAMDJkycxbtw4REVF2X0OtVoNrVZr\n",
              "c/P29nbXkIgGDbd+Kn7gwAEsX74cmzZtgpeXFw4ePAiz2YxFixbBarVCCAGdToeCggLlPgcPHkR2\n",
              "djZycnKg1WqRn5/vzhKJpKQSQq7eXevXr0dubq6nyyDyKF5SSiQhBptIQgw2kYQYbCIJMdhEEmKw\n",
              "ifrBlaueuBL/Hpuoj1y96okrccYm6gN3rHriSpyxifrAHaueuBJnbKI+cMeqJ67EYBP1weNVTyaE\n",
              "+sNksbpm1RMXGhi/XogGoahQf7yXHot2UxcCND4DJtQAg03UL49XPRloBs6vGCJyGQabSEIMNpGE\n",
              "GGwiCXmkE4ijbh/sBELUf24N9g87gVRWVuKDDz4A8P/dPr777jts2rQJ2dnZyn0cHSOi3nHbmmcP\n",
              "HjxAWFgYbt++Da1Wq+w3GAyIiorCvXv34OPjAyEEwsLCcPnyZWi12h6P9bRS6ZO45hmRG7/H/mEn\n",
              "kPPnz8PPzw87duzAyJEje+z2ERgY2OMxe8E2m80wm802+9gJhMgDnUC6urpc9hzsBEJkn9uCHR4e\n",
              "Di8vL7z55psAgPj4eIwfPx61tbVobGxUAi6EQF1dHcLDw/H888/3eMyeLVu2wGg02tySkpLcNSSi\n",
              "QeOZdwJ5+eWXe+z2wU4gRC7izv5B1dXVYtasWSI2NlZMnTpVnDhxQgghxPXr10VycrKIjo4WCQkJ\n",
              "oqKiQrmPo2O9wTa6REKwEwiRhHjlGZGEGGwiCTHYRBJisIkkxGATSYjBJpIQg00kIQabSEIMNpGE\n",
              "GGwiCTHYRBJisIkkxGATSYjBJpIQg00kIQabSEIMNpGE3BrsyMhITJw4EXq9Hnq9HkVFRQ73A+wE\n",
              "QuQKbu+PXVRUBL1e3+v9jzuBZGdn48SJE8jOzkZZWZm7yySSyoB6KW4wGFBeXq70+MrIyEB9fT2q\n",
              "qqo8XBnR4OL2YGdmZiIuLg7Lly9HS0uLw/319fU9dgKxx2w2o62tzebGTiBEbg52aWkpKioqcPXq\n",
              "VQQHByMrK8vhfmexEwiRfc9s+eHGxkbExMSgvb29x/2OGvb1tnfXtm3bkJeX59axEA10bpuxHzx4\n",
              "gNbWVmW7sLAQ8fHxPe4HwE4gRC7itk/Fm5ubkZGRAavVCiEEdDodCgoKetz/2MGDB5GdnY2cnBxo\n",
              "tVrk5+e7q0Qiabkt2DqdDteuXbN7rKf9ADBx4kR89dVX7iqLaEgYUF93EXmKxdqNew86YbF2e7oU\n",
              "l3D7BSpEA12VoQOHSm+ipcOMkAA1VqTqEBXq7+my+oUzNg1pFms3DpXeRHVLBzS+3qg2dODQpZuD\n",
              "fubmjE1DWrupCy0dZoRqNQj08wUAtLSb0W7qwqgRwzxcXd9xxqYhLUDjg5AANQxtJhgfWmBoMyEk\n",
              "QI0AzeCe8/oUbIvFgurqalfXQvTM+Xp7YUWqDhNC/WGyWDEh1B8rUnXw9R7cc57Tv5YuXLiApUuX\n",
              "wsfHB3V1dSgrK0NeXp5yUQnRYBMV6o/30mPRbupCgMZn0Ica6MOMvXnzZly6dAlBQUEAgMTERIff\n",
              "SxMNBr7eXhg1YpgUoQb6EGyr1YoJEybY7Bs2bPB+yEAkI6eDrdFo0NHRAZVKBQCorKyEn5+fywsj\n",
              "or5z+j32tm3bMG/ePDQ0NGDZsmU4f/48jh075o7aiKiPnA72vHnzEB0djbNnz0IIgXffffepl+ZE\n",
              "5Fl9+rJu/PjxWL16tatrISIXcTrY48ePV95f/9DNmzddUhAR9Z/TwT59+rTys8lkwpEjR5Svvoho\n",
              "YHA62C+88ILNdkJCAlJSUrBt2zaXFUVE/dPvb+Pv3r2LpqYmu8d6agzgqCkAGwYQ9Z/TM3Z8fLzy\n",
              "HttqtaK2tha/+93vejzfXmMAR00B2DCAqP+cXqX04sWLys8+Pj7Q6XQICwuze25kZCSKi4ttgu1o\n",
              "JVKtVuvUKqX2rF+/Hrm5uc4MiUg6Ts/YaWlpTp2fmZkJIQSSkpKwa9cuh00BAgMDezzW2+WH2TCA\n",
              "qA/vsWtqarB69WrMmzcPr776qnKzx1WNAXrChgFE9jn9UjwpKQlz5szBSy+9ZLOG92uvvebwfo8b\n",
              "A1RXV7vspTgbBhDZ5/RLcZPJhJ07d/7oeQ8ePIDFYsHIkSMB/H9jgB82BcjOzn6qKYCjY09Sq9VQ\n",
              "q9U2+9gwgKgPwY6NjUVdXR3Cw8MdnueoMYCjpgBsGEDUf04Hu6WlBdOmTcNLL70EjUaj7P/0009t\n",
              "znPUMMBRUwA2DJCPxdot1eokg4HTwV62bJnSv5rox8i4Zvdg4HSwH3+ybTabn3p/S/RDP1yzO1Sr\n",
              "Udbsfi89ljO3mzn9r1tZWYnY2Fjlb7D/8Y9/OLzyjIauJ9fsDtVqlDW7yb2cDvZvfvMbHDhwACEh\n",
              "IQAefYp95swZlxdGg5+sa3YPBk4Hu6OjA6+88oqyrVKpuJgh2SXrmt2DgdO/On18fGCxWJQ/BKmv\n",
              "r+d3x9QjGdfsHgyc/ldes2YN0tPT0dLSgq1btyI1NZXvsckh2dbsHgz69HWXTqfDZ599hs7OThw9\n",
              "etTmpTkReZ7Twa6srERKSgpSUlLcUQ8RuYDTr43S09ORmJiI/fv3o7W11Q0lEVF/OR3s6upqvP/+\n",
              "+7hy5QqioqLwxhtvoKSkxB21EVEf9enTjFmzZuHw4cOora3FyJEjsWDBAlfXRUT90KcrBQwGA44c\n",
              "OYL8/HwIIbB7925X10VE/eB0sH/yk5/g66+/RkZGBv70pz8hKSnJHXURUT84Hew33ngDn3zyic2f\n",
              "bBLRwOL0e+ylS5fizJkzyMnJAQA0NDSgsrLS5YURUd85Hezf//73+Oijj3D48OFHD+DlhVWrVrm6\n",
              "LiLqB6eD/dlnn+H06dMYMWIEACAsLAwdHR0O75Ofnw+VSoXi4mIAjz5VHz9+vNIhZM+ePcq5BoMB\n",
              "CxYsQHR0NGJjY1FaWupsiURDntPvsf38/J76ow9HC53W1NTg0KFDSE5Ottm/Z88epKenP3X+5s2b\n",
              "kZycjLNnz6KsrAw/+9nPcOvWLfj6+jpbKtGQ5fSMHRERgUuXLkGlUqGzsxPvvvvuUy18Huvu7sbb\n",
              "b7+Nffv29Xq1lePHj+Odd94BACQmJmLs2LE23UeI6Mc5Hey9e/fif/7nf1BZWQl/f3/87W9/w9q1\n",
              "a+2em5ubi5dffhkJCQlPHdu8eTPi4uKwZMkSpbf23bt3YbFYMGbMGOW8yMhI1NXV2X18s9mMtrY2\n",
              "mxs7gRA5Gezy8nJcvnwZH3/8MYxGI65evQo/Pz8sXLjwqXP/9a9/4eTJk9i6detTx44cOYLr16+j\n",
              "oqICqampWLRoUZ+KZycQoh6IXtq1a5cIDAwUL774ooiOjhZ79+4Vw4cPFxs2bBD3799/6vz9+/eL\n",
              "MWPGiIiICBERESHUarUICQkR+/fvf+pctVotvv/+eyGEEMOHDxeNjY3KscTERFFSUmK3JpPJJIxG\n",
              "o81t7dq1vR0SkbR6HexJkyaJhoYGIYQQ3377rfD29hbnz5/v9ROlpaWJU6dOCYvFIpqampT9J06c\n",
              "EOHh4cp2VlaW2L59uxBCiCtXroixY8eKzs7OXj/PunXren0ukax6/am4RqPB2LFjAQCTJk1CTEwM\n",
              "5syZ4/QrBLPZjNdeew1msxleXl4IDg7Gn//8Z+X47t278dZbbyE6OhrDhg3D0aNH+Yk4kZN6HWyT\n",
              "yYTKykrlqy0hhM321KlTHd7/woULys/l5eU9njd69GicO3eut2URkR29DvbDhw/x+uuv2+x7vK1S\n",
              "qZRPtonI83od7JqaGjeWQUSuxGUjiSTEYBNJiMEmkhCDTSQhBptIQgw2kYQYbCIJMdhEEmKwiSTE\n",
              "YBNJiMEmkhCDTSQhBptIQgw2kYQYbCIJPZNgP9kJxFG3D3YCIeo/twfbXieQx90+bty4gfz8fCxd\n",
              "uhQWi+VHjxFR77g12D11AnHU7YOdQIj6z+neXc6w1wnEUbePvnQCMZvNNvvYCYTIjTO2o04grsJO\n",
              "IET2uS3Yly5dQk1NDaKjoxEZGYm///3vWLlyJY4fPw4fHx80NTUp59bU1CA8PBxBQUE9HrNny5Yt\n",
              "MBqNNrekpCR3DYlo0HBbsFevXo3GxkbU1NSgpqYGycnJ+OMf/4jVq1dj8eLFOHDgAACgrKwMDQ0N\n",
              "SEtLAwCHx56kVquh1Wptbk+2+CUaitz6Hrsnjrp9sBMIUf+phHDQtX4QWr9+PXJzcz1dBpFH8coz\n",
              "Igkx2EQSYrCJJMRgE0mIwSaSEINNJCEGm0hCDDaRhBhsIgkx2EQSYrCJJMRgE0mIwSaSEINNJCEG\n",
              "m0hCDDaRhBhsIgm5Ndjz5s3D1KlTodfrkZqaimvXrgF4tKTwxIkTodfrodfrUVRUpNznxo0bSElJ\n",
              "QUxMDBITE/HNN9+4s0QiOQk3un//vvLzp59+KqZOnSqEECIiIkJcu3bN7n1mz54t8vPzhRBCfPLJ\n",
              "J2LGjBlOPee6dev6UiqRVNw6Y48cOVL52Wg0QqVSOTzfYDCgvLwcy5YtAwBkZGSgvr4eVVVV7iyT\n",
              "SDpuX6U0MzMTX375JQDg888/t9kvhEBSUhJ27dqFkJAQ1NfXIywsDD4+j8pSqVQIDw9HXV0doqKi\n",
              "nnpsdgIhss/tH54VFBSgvr4e7733HjZt2gQAKC0tRUVFBa5evYrg4GBkZWX16bHZCYTIvme6/LCf\n",
              "nx9u376NoKAgZV9jYyNiYmLQ3t4Og8GAqKgo3Lt3Dz4+PhBCICwsDJcvX+71jL1t2zbk5eW5fSxE\n",
              "A5nbZuzW1lbcuXNH2S4uLkZQUBA0Gg1aW1uV/YWFhYiPjwcAhIaGYvr06Th69CgA4OTJkxg3bpzd\n",
              "UAPsBELUE7e9xzYajVi8eDEePnwILy8vhISE4PTp02hubkZGRgasViuEENDpdCgoKFDud/DgQWRn\n",
              "ZyMnJwdarRb5+fnuKpFIWuwEQiQhXnlGJCEGm0hCDDaRhBhsIgkx2EQSYrCJJMRgE0mIwSaSEINN\n",
              "JKEhF2yLtRv3HnTCYu32dClEbuP2v8ceSKoMHThUehMtHWaEBKixIlWHqFB/T5dF5HJDZsa2WLtx\n",
              "qPQmqls6oPH1RrWhA4cu3eTMTVIaMjN2u6kLLR1mhGo1CPTzBQC0tJvRburCqBHDPFwdkWsNmRk7\n",
              "QOODkAA1DG0mGB9aYGgzISRAjQDNkPndRkPIkAm2r7cXVqTqMCHUHyaLFRNC/bEiVQdf7yHzT0BD\n",
              "yJCarqJC/fFeeizaTV0I0Pgw1CQtjzQMcNQUwN0NA3y9vTBqxDCGmuTmzkXLe2oY4KgpABsGEPXf\n",
              "M28Y4KgpABsGELnGM28Y4KgpQGBgIBsGELmARxoGuAobBhDZ98wbBtTU1CA6OtpuUwCtVtvvhgGZ\n",
              "mZnQ6XTPakj9YrVaceXKFSQlJUmxHrpM4xmoY4mIiMBvf/vbHz/RXW/e79+/LxoaGpTtU6dOieee\n",
              "e050d3eLtLQ0mw/IEhISlPMcHZON0WgUAITRaPR0KS4h03gG+1ieecMAlUrlsCkAGwYQ9Z90DQMG\n",
              "k7a2NgQGBsJoNEKr1Xq6nH6TaTyDfSy8SoNIQgy2B6nVamzfvh1qtdrTpbiETOMZ7GPhS3EiCXHG\n",
              "JpIQg00kIQabSEIM9jO0du1aREZGQqVS4Z///KeyPzIyEhMnToRer4der0dRUZHniuwlk8mE9PR0\n",
              "xMTEYNq0aZg7d67yxzoGgwELFixAdHQ0YmNjUVpa6uFqHXM0llmzZmH8+PHK/82ePXs8XG0vefb6\n",
              "mKHl4sWLor6+XkRERIhr164p+5/cHgwePnwozpw5I7q7u4UQQuzbt0+kpaUJIYT45S9/KbZv3y6E\n",
              "EOLKlSviueeeE52dnR6q9Mc5GktaWpo4deqU54rrI87Yz9DMmTMxbtw4T5fhEhqNBgsXLoRKpQIA\n",
              "JCcno6amBgBw/PhxvPPOOwCAxMREjB07FhcvXvRUqT/K0VgGKwZ7gMjMzERcXByWL1+OlpYWT5fj\n",
              "tLy8PPz0pz/F3bt3YbFYMGbMGOVYZGQk6urqPFidcx6P5bHNmzcjLi4OS5Yswc2bNz1YWe8x2ANA\n",
              "aWkpKioqcPXqVQQHByMrK8vTJTklJycHVVVV2Llzp6dL6bcnx3LkyBFcv34dFRUVSE1NxaJFizxc\n",
              "YS95+r3AUOToPfWdO3eEv7//sy2oH95//32RkJBgswzW8OHDRWNjo7KdmJgoSkpKPFCdc+yN5Ulq\n",
              "tVp8//33z66oPuKM7WEPHjxAa2ursl1YWIj4+HjPFeSE3NxcFBYWoqSkxGYZrMWLF+PAgQMAgLKy\n",
              "MjQ0NCAtLc1DVfaOvbF0dXWhublZOefkyZMYPXo0goKCPFRl7/GS0mdo1apVOHPmDJqamhAUFISA\n",
              "gACcO3cOGRkZsFqtEEJAp9MhLy8PkZGRni7Xodu3b+P555+HTqdDQEAAgEfXV3/99ddobm7GW2+9\n",
              "hVu3bmHYsGH48MMPMXv2bA9X3LOexvLXv/4VaWlpMJvN8PLyQnBwMHJzczFt2jQPV/zjGGwiCfGl\n",
              "OJGEGGwiCTHYg9DjyxunTJkCb29vZXvJkiWeLq3XduzYAZPJ5OkypMX32INYTU0N9Hq9zafqA0F3\n",
              "96Oe415ePc8bKpUK9+/ft/k03VWPTZyxpfLFF1/glVdeQUJCApKSkpRGDRcuXEBsbCxWr16NqVOn\n",
              "Ii4uDhUVFcjOzkZcXBxefPFFNDQ0AAAOHz6MV199Fa+//jqmTJmCmTNn2lxe+cEHHyApKQnTp0/H\n",
              "ggULUFtbC+DRDJyRkYH58+cjNjYWjY2N2LhxIxITE6HX6zFz5kz85z//AQDlctPU1FTo9XoYDAZk\n",
              "Z2fjD3/4g/I8GzduxI4dO3p87J7GSv/Hg9+hUz/dunVLBAYGCiGEqK6uFsnJycpyuTdu3BBjxowR\n",
              "JpNJfPnll8Lb21uUl5cLIYTYunWrCAoKEt9++60QQohf//rXYuPGjUIIIfLz88WwYcPEv//9byGE\n",
              "ELt37xZz584VQgjx8ccfi7ffflt0dXUJIYQoKCgQCxcuFEIIsX37dhEWFiaampqU+gwGg/JzYWGh\n",
              "mD9/vrINwOZCkKysLLFnzx5le8OGDcofkjz52I7GSo8MqTa6Mjt79iyqqqowc+ZMZZ+Xl5dyjXZU\n",
              "VBQSEhIAADNmzEBUVBQmTZoEAEhKSsKpU6eU+6WkpGDy5MkAgJUrV2Lr1q2wWq0oLi5GWVmZ8jhP\n",
              "tlNauHAhRo8erWyXlJRg3759aG9vR3d3N+7du9fn8f3wsR2NNTo6us/PIRMGWxJCCMydOxfHjh17\n",
              "6lhDQwM0Go2y7e3t/dR2V1dXr55jy5YtWLlypd3j/v7+ys91dXVYs2YNysrKMGHCBFRUVNgE8Uk+\n",
              "Pj42vyhMJpPN4/3wZ0djpUf4HlsS8+fPx/nz51FRUaHs62sfs6+++grXr18HAHz00UeYPXs2vL29\n",
              "kZ6ejgMHDigzr8ViUXqeP8loNMLX1xdhYWEQQuDDDz+0OR4QEACj0ahsR0VFKfXevXsXn3/++TMZ\n",
              "q6w4Y0siKioKx44dw6pVq/Df//4XnZ2diI+P79OslpKSgk2bNqGqqgpBQUEoKCgAALz55pu4e/eu\n",
              "cnloV1cXfvWrX9m9tj0uLg6/+MUv8MILLyAoKAjp6ek2xzds2IC5c+di+PDhOHfuHFauXImf//zn\n",
              "mDx5MnQ6HZKTk5/JWGXFr7vIxuHDh1FcXIzi4mJPl0L9wJfiRBLijE0kIc7YRBJisIkkxGATSYjB\n",
              "JpIQg00kIQabSEIMNpGEGGwiCTHYRBL6X2BEw5FXDDFlAAAAAElFTkSuQmCC\n",
              "\">\n",
              "        \n",
              "      </div>\n",
              "      <script></script>\n",
              "      <script type=\"text/javascript\">\n",
              "        (() => {\n",
              "          const chartElement = document.getElementById(\"chart-e14541f1-89f9-4308-ac77-da908ebb0d6d\");\n",
              "          async function getCodeForChartHandler(event) {\n",
              "            const chartCodeResponse =  await google.colab.kernel.invokeFunction(\n",
              "                'getCodeForChart', [\"chart-e14541f1-89f9-4308-ac77-da908ebb0d6d\"], {});\n",
              "            const responseJson = chartCodeResponse.data['application/json'];\n",
              "            await google.colab.notebook.addCell(responseJson.code, 'code');\n",
              "          }\n",
              "          chartElement.onclick = getCodeForChartHandler;\n",
              "        })();\n",
              "      </script>\n",
              "      <style>\n",
              "        .colab-quickchart-chart-with-code  {\n",
              "            display: block;\n",
              "            float: left;\n",
              "            border: 1px solid transparent;\n",
              "        }\n",
              "\n",
              "        .colab-quickchart-chart-with-code:hover {\n",
              "            cursor: pointer;\n",
              "            border: 1px solid #aaa;\n",
              "        }\n",
              "      </style>"
            ]
          },
          "metadata": {}
        }
      ]
    },
    {
      "cell_type": "code",
      "source": [
        "data.info()"
      ],
      "metadata": {
        "id": "WMshjmTXBPcr",
        "colab": {
          "base_uri": "https://localhost:8080/"
        },
        "outputId": "a835e34a-4830-4c79-d7df-8435a80aa1ef"
      },
      "execution_count": 3,
      "outputs": [
        {
          "output_type": "stream",
          "name": "stdout",
          "text": [
            "<class 'pandas.core.frame.DataFrame'>\n",
            "RangeIndex: 500 entries, 0 to 499\n",
            "Data columns (total 2 columns):\n",
            " #   Column       Non-Null Count  Dtype  \n",
            "---  ------       --------------  -----  \n",
            " 0   Temperature  500 non-null    float64\n",
            " 1   Revenue      500 non-null    float64\n",
            "dtypes: float64(2)\n",
            "memory usage: 7.9 KB\n"
          ]
        }
      ]
    },
    {
      "cell_type": "markdown",
      "source": [
        "# Define dependent and independent variables"
      ],
      "metadata": {
        "id": "jrGPCOFoug2E"
      }
    },
    {
      "cell_type": "code",
      "source": [
        "print(data.columns)                     # Returns the name of columns\n",
        "\n",
        "Y = data['Revenue']                     # Y is a list\n",
        "X = data[['Temperature']]               # X is a dataset"
      ],
      "metadata": {
        "id": "4l_ckWHnBPSh",
        "colab": {
          "base_uri": "https://localhost:8080/"
        },
        "outputId": "d3b57133-6b9a-49e6-919e-747520e42269"
      },
      "execution_count": 13,
      "outputs": [
        {
          "output_type": "stream",
          "name": "stdout",
          "text": [
            "Index(['Temperature', 'Revenue'], dtype='object')\n"
          ]
        }
      ]
    },
    {
      "cell_type": "markdown",
      "source": [
        "# Split training and test data"
      ],
      "metadata": {
        "id": "pnZGWtKEuk6Q"
      }
    },
    {
      "cell_type": "code",
      "source": [
        "from sklearn.model_selection import train_test_split\n",
        "\n",
        "# Specifying the train size to 0.7 means splitting the data in 70% train data and 30% test data. It can also be done using test_size = 0.3\n",
        "# Specifying the random_state means specifying the seed as row are assigned to train and test set randomly.\n",
        "X_train, X_test, Y_train, Y_test = train_test_split(X, Y, train_size = 0.7, random_state = 200)\n",
        "X_train.shape, X_test.shape, Y_train.shape, Y_test.shape"
      ],
      "metadata": {
        "id": "VxdzIhENBPPm",
        "colab": {
          "base_uri": "https://localhost:8080/"
        },
        "outputId": "266fb204-cdd2-4f18-cc54-96108b869c43"
      },
      "execution_count": 5,
      "outputs": [
        {
          "output_type": "execute_result",
          "data": {
            "text/plain": [
              "((350, 1), (150, 1), (350,), (150,))"
            ]
          },
          "metadata": {},
          "execution_count": 5
        }
      ]
    },
    {
      "cell_type": "markdown",
      "source": [
        "# Select Model\n",
        "\n",
        "We are using linear regression for prediction."
      ],
      "metadata": {
        "id": "PsMiS9qLumpe"
      }
    },
    {
      "cell_type": "code",
      "source": [
        "from sklearn.linear_model import LinearRegression\n",
        "\n",
        "model = LinearRegression()"
      ],
      "metadata": {
        "id": "4f-YCBp_BPM_"
      },
      "execution_count": 6,
      "outputs": []
    },
    {
      "cell_type": "code",
      "source": [
        "model.fit(X_train, Y_train)                           # Fitting the data to model means model is learning patterns from training set\n",
        "\n",
        "print(f'Equation of line: {model.intercept_:.2f} + {model.coef_[0]:.2f}x')"
      ],
      "metadata": {
        "id": "FjMT3k54BPK4",
        "colab": {
          "base_uri": "https://localhost:8080/"
        },
        "outputId": "9a3ce224-b72b-4e64-e7fe-9cfb5508abdd"
      },
      "execution_count": 24,
      "outputs": [
        {
          "output_type": "stream",
          "name": "stdout",
          "text": [
            "Equation of line: 47.35 + 21.31x\n"
          ]
        }
      ]
    },
    {
      "cell_type": "markdown",
      "source": [
        "# Model prediction on test data"
      ],
      "metadata": {
        "id": "Bi49N3W2u41y"
      }
    },
    {
      "cell_type": "code",
      "source": [
        "y_pred = model.predict(X_test)"
      ],
      "metadata": {
        "id": "7nyvixixBPIb"
      },
      "execution_count": 8,
      "outputs": []
    },
    {
      "cell_type": "markdown",
      "source": [
        "# Visualization"
      ],
      "metadata": {
        "id": "mZQn58IBu5-b"
      }
    },
    {
      "cell_type": "code",
      "source": [
        "import matplotlib.pyplot as plt\n",
        "\n",
        "# plotting actual and predicted values\n",
        "\n",
        "plt.plot(X_test, Y_test, '+', label = 'Actual values')\n",
        "plt.plot(X_test, y_pred, label = 'Predicted')\n",
        "plt.xlabel(\"Temperature (degree C)\")\n",
        "plt.ylabel(\"Revenue ($)\")\n",
        "plt.legend()"
      ],
      "metadata": {
        "id": "4lK9JV8GBPGc",
        "colab": {
          "base_uri": "https://localhost:8080/",
          "height": 467
        },
        "outputId": "cbf59e2c-afc3-4a93-e56e-eb4a1fef4c29"
      },
      "execution_count": 15,
      "outputs": [
        {
          "output_type": "execute_result",
          "data": {
            "text/plain": [
              "<matplotlib.legend.Legend at 0x7b4ca6cfe530>"
            ]
          },
          "metadata": {},
          "execution_count": 15
        },
        {
          "output_type": "display_data",
          "data": {
            "text/plain": [
              "<Figure size 640x480 with 1 Axes>"
            ],
            "image/png": "[encoded data removed]"
          },
          "metadata": {}
        }
      ]
    },
    {
      "cell_type": "markdown",
      "source": [
        "# Model Accuracy\n",
        "\n",
        "In regression, we have several error funcions to tell how good our model predicts."
      ],
      "metadata": {
        "id": "uiySR7kxu-F1"
      }
    },
    {
      "cell_type": "code",
      "source": [
        "from sklearn.metrics import mean_absolute_error, mean_squared_error"
      ],
      "metadata": {
        "id": "pPeK9in7BPEC"
      },
      "execution_count": 10,
      "outputs": []
    },
    {
      "cell_type": "code",
      "source": [
        "# Mean Absolute Error also known as L1 loss. It is calculated by taking mean of absolute value of differences to y_actual and y_pred i.e. sum( |y_actual - y_pred| ) / no. of points\n",
        "\n",
        "print(\"Mean Absolute Error\")\n",
        "mean_absolute_error(Y_test, y_pred)"
      ],
      "metadata": {
        "id": "YpQFsA6UBPBF",
        "colab": {
          "base_uri": "https://localhost:8080/"
        },
        "outputId": "7f71214a-6557-49cc-e630-3a82c238bbf3"
      },
      "execution_count": 11,
      "outputs": [
        {
          "output_type": "stream",
          "name": "stdout",
          "text": [
            "Mean Absolute Error\n"
          ]
        },
        {
          "output_type": "execute_result",
          "data": {
            "text/plain": [
              "19.791928612891923"
            ]
          },
          "metadata": {},
          "execution_count": 11
        }
      ]
    },
    {
      "cell_type": "code",
      "source": [
        "# Mean Absolute Error also known as L2 loss. It is calculated by taking mean of squares of differences to y_actual and y_pred i.e. sum( (y_actual - y_pred)^2 ) / no. of points\n",
        "\n",
        "print(\"Mean Squared Error\")\n",
        "mean_squared_error(Y_test, y_pred)"
      ],
      "metadata": {
        "id": "qLEdv2NPBO-9",
        "colab": {
          "base_uri": "https://localhost:8080/"
        },
        "outputId": "17be0a52-7fe5-46c0-f06f-db9a38fb9f6b"
      },
      "execution_count": 12,
      "outputs": [
        {
          "output_type": "stream",
          "name": "stdout",
          "text": [
            "Mean Squared Error\n"
          ]
        },
        {
          "output_type": "execute_result",
          "data": {
            "text/plain": [
              "674.7316877308202"
            ]
          },
          "metadata": {},
          "execution_count": 12
        }
      ]
    }
  ]
}